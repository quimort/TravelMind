{
 "cells": [
  {
   "cell_type": "code",
   "execution_count": 1,
   "id": "08fca5f9",
   "metadata": {},
   "outputs": [],
   "source": [
    "import utils as utils\n",
    "from pyspark.sql.functions import col\n"
   ]
  },
  {
   "cell_type": "code",
   "execution_count": 2,
   "id": "e473f9f5",
   "metadata": {},
   "outputs": [],
   "source": [
    "#crear context spark\n",
    "spark = utils.create_context()"
   ]
  },
  {
   "cell_type": "markdown",
   "id": "3f4ba876",
   "metadata": {},
   "source": [
    "EXPLOTAITION ZONE \n",
    "Seleccionamos filtramos datos que necesitamos"
   ]
  },
  {
   "cell_type": "code",
   "execution_count": null,
   "id": "20cdbfc2",
   "metadata": {},
   "outputs": [
    {
     "name": "stdout",
     "output_type": "stream",
     "text": [
      "\n",
      "--- First 20 rows of df_final ---\n",
      "+----------------------+--------------------+------------------+----------------+------------------------+------------------------------+------+------------------+------------------+-------------------+-------------------+-----------------------+-----------------------+\n",
      "|municipio_codigo_aemet|nombre_municipio_ine|fecha_descarga_utc|prediccion_fecha|prob_precipitacion_00_24|estado_cielo_00_24_descripcion|uv_max|temperatura_maxima|temperatura_minima|sens_termica_maxima|sens_termica_minima|humedad_relativa_maxima|humedad_relativa_minima|\n",
      "+----------------------+--------------------+------------------+----------------+------------------------+------------------------------+------+------------------+------------------+-------------------+-------------------+-----------------------+-----------------------+\n",
      "+----------------------+--------------------+------------------+----------------+------------------------+------------------------------+------+------------------+------------------+-------------------+-------------------+-----------------------+-----------------------+\n",
      "\n"
     ]
    }
   ],
   "source": [
    "#cargar el DataFrame desde el archivodesde iceberg\n",
    "df_imputed = utils.read_iceberg_table(spark,\"local_db\",\"aemet_processed\")\n",
    "\n",
    "# Filtrar las filas para el municipio de Barcelona y seleccionar las columnas deseadas\n",
    "df_final = (\n",
    "    df_imputed\n",
    "    #.filter(col('nombre_municipio_ine') == 'Barcelona')#Municipio de Barcelona\n",
    "    # Seleccionar las columnas relevantes para el resultado final\n",
    "    .select(\n",
    "        'municipio_codigo_aemet', 'nombre_municipio_ine', 'fecha_descarga_utc',\n",
    "        'prediccion_fecha', 'prob_precipitacion_00_24', 'estado_cielo_00_24_descripcion',\n",
    "        'uv_max', 'temperatura_maxima', 'temperatura_minima',\n",
    "        'sens_termica_maxima', 'sens_termica_minima', 'humedad_relativa_maxima',\n",
    "        'humedad_relativa_minima'\n",
    "    )\n",
    ")\n",
    "print(\"\\n--- First 20 rows of df_final ---\")\n",
    "df_final.filter(col(\"nombre_municipio_ine\").like(\"%ar%\")).show(20, truncate=False)"
   ]
  }
 ],
 "metadata": {
  "kernelspec": {
   "display_name": "TravelMind-69GU69Sq",
   "language": "python",
   "name": "python3"
  },
  "language_info": {
   "codemirror_mode": {
    "name": "ipython",
    "version": 3
   },
   "file_extension": ".py",
   "mimetype": "text/x-python",
   "name": "python",
   "nbconvert_exporter": "python",
   "pygments_lexer": "ipython3",
   "version": "3.10.11"
  }
 },
 "nbformat": 4,
 "nbformat_minor": 5
}
