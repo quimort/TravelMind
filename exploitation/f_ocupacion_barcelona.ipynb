{
 "cells": [
  {
   "cell_type": "code",
   "execution_count": 1,
   "id": "948969b4",
   "metadata": {},
   "outputs": [],
   "source": [
    "from pyspark.sql import SparkSession,DataFrame\n",
    "from pyspark.sql.functions import *\n",
    "from pyspark.sql.types import *\n",
    "import unicodedata\n",
    "import re\n",
    "import utils as utils\n",
    "from calendar import monthrange"
   ]
  },
  {
   "cell_type": "code",
   "execution_count": 2,
   "id": "9b474c4b",
   "metadata": {},
   "outputs": [],
   "source": [
    "source_db = \"trusted\"\n",
    "source_table = \"f_ocupacion_hotelera\"\n",
    "db_name = \"exploitation\"\n",
    "table_name = \"f_ocupacion_barcelona\""
   ]
  },
  {
   "cell_type": "code",
   "execution_count": 3,
   "id": "0b62bf55",
   "metadata": {},
   "outputs": [],
   "source": [
    "spark = utils.create_context()"
   ]
  },
  {
   "cell_type": "code",
   "execution_count": 11,
   "id": "226cfef4",
   "metadata": {},
   "outputs": [],
   "source": [
    "df_ocupacion_hotelera = utils.read_iceberg_table(spark,source_db,source_table)"
   ]
  },
  {
   "cell_type": "code",
   "execution_count": 5,
   "id": "499182f3",
   "metadata": {},
   "outputs": [],
   "source": [
    "@udf(IntegerType())\n",
    "def dias_mes(year,month):\n",
    "\n",
    "    days = monthrange(year,month)[1]\n",
    "\n",
    "    return days\n"
   ]
  },
  {
   "cell_type": "code",
   "execution_count": 12,
   "id": "30ae47bc",
   "metadata": {},
   "outputs": [
    {
     "name": "stdout",
     "output_type": "stream",
     "text": [
      "+----+---+--------------+---------------------------+---------+--------+--------------+-------------+-------------------------+---------------------+---------------+----------------+-------------------------+-------------------------+----------------+\n",
      "|año |mes|puntoTuristico|lugarResidencia            |provincia|viajeros|pernoctaciones|estanciaMedia|establecimientosEstimados|habitacionesEstimadas|plazasEstimadas|gradoOcupaPlazas|gradoOcupaPlazasFinSemana|gradoOcupaPorHabitaciones|personalEmpleado|\n",
      "+----+---+--------------+---------------------------+---------+--------+--------------+-------------+-------------------------+---------------------+---------------+----------------+-------------------------+-------------------------+----------------+\n",
      "|2012|1  |BARCELONA     |RESIDENTES EN ESPANA       |BARCELONA|123303  |210821        |1.71         |NULL                     |NULL                 |NULL           |NULL            |NULL                     |NULL                     |NULL            |\n",
      "|2012|1  |BARCELONA     |RESIDENTES EN EL EXTRANJERO|BARCELONA|254017  |637437        |2.51         |NULL                     |NULL                 |NULL           |NULL            |NULL                     |NULL                     |NULL            |\n",
      "|2012|1  |BARCELONA     |TOTAL                      |BARCELONA|377320  |848258        |2.25         |491                      |NULL                 |66531          |41.0            |43.41                    |45.75                    |11244           |\n",
      "|2012|2  |BARCELONA     |RESIDENTES EN ESPANA       |BARCELONA|131139  |228877        |1.75         |NULL                     |NULL                 |NULL           |NULL            |NULL                     |NULL                     |NULL            |\n",
      "|2012|2  |BARCELONA     |RESIDENTES EN EL EXTRANJERO|BARCELONA|315726  |799181        |2.53         |NULL                     |NULL                 |NULL           |NULL            |NULL                     |NULL                     |NULL            |\n",
      "|2012|2  |BARCELONA     |TOTAL                      |BARCELONA|446865  |1028058       |2.3          |491                      |NULL                 |66555          |53.01           |57.25                    |63.8                     |11200           |\n",
      "|2012|3  |BARCELONA     |RESIDENTES EN ESPANA       |BARCELONA|154443  |274571        |1.78         |NULL                     |NULL                 |NULL           |NULL            |NULL                     |NULL                     |NULL            |\n",
      "|2012|3  |BARCELONA     |RESIDENTES EN EL EXTRANJERO|BARCELONA|404746  |984542        |2.43         |NULL                     |NULL                 |NULL           |NULL            |NULL                     |NULL                     |NULL            |\n",
      "|2012|3  |BARCELONA     |TOTAL                      |BARCELONA|559189  |1259113       |2.25         |505                      |NULL                 |66879          |60.36           |64.15                    |68.22                    |11421           |\n",
      "|2012|4  |BARCELONA     |RESIDENTES EN ESPANA       |BARCELONA|119471  |238781        |2.0          |NULL                     |NULL                 |NULL           |NULL            |NULL                     |NULL                     |NULL            |\n",
      "|2012|4  |BARCELONA     |RESIDENTES EN EL EXTRANJERO|BARCELONA|487361  |1280647       |2.63         |NULL                     |NULL                 |NULL           |NULL            |NULL                     |NULL                     |NULL            |\n",
      "|2012|4  |BARCELONA     |TOTAL                      |BARCELONA|606832  |1519428       |2.5          |516                      |NULL                 |67257          |74.44           |78.7                     |82.3                     |11567           |\n",
      "|2012|5  |BARCELONA     |RESIDENTES EN ESPANA       |BARCELONA|121360  |220340        |1.82         |NULL                     |NULL                 |NULL           |NULL            |NULL                     |NULL                     |NULL            |\n",
      "|2012|5  |BARCELONA     |RESIDENTES EN EL EXTRANJERO|BARCELONA|477172  |1242975       |2.6          |NULL                     |NULL                 |NULL           |NULL            |NULL                     |NULL                     |NULL            |\n",
      "|2012|5  |BARCELONA     |TOTAL                      |BARCELONA|598532  |1463315       |2.44         |519                      |NULL                 |66766          |70.17           |78.84                    |80.45                    |11603           |\n",
      "|2012|6  |BARCELONA     |RESIDENTES EN ESPANA       |BARCELONA|118098  |219701        |1.86         |NULL                     |NULL                 |NULL           |NULL            |NULL                     |NULL                     |NULL            |\n",
      "|2012|6  |BARCELONA     |RESIDENTES EN EL EXTRANJERO|BARCELONA|477388  |1236908       |2.59         |NULL                     |NULL                 |NULL           |NULL            |NULL                     |NULL                     |NULL            |\n",
      "|2012|6  |BARCELONA     |TOTAL                      |BARCELONA|595486  |1456609       |2.45         |511                      |NULL                 |67245          |71.55           |75.57                    |79.79                    |11776           |\n",
      "|2012|7  |BARCELONA     |RESIDENTES EN ESPANA       |BARCELONA|125455  |246817        |1.97         |NULL                     |NULL                 |NULL           |NULL            |NULL                     |NULL                     |NULL            |\n",
      "|2012|7  |BARCELONA     |RESIDENTES EN EL EXTRANJERO|BARCELONA|549030  |1522531       |2.77         |NULL                     |NULL                 |NULL           |NULL            |NULL                     |NULL                     |NULL            |\n",
      "+----+---+--------------+---------------------------+---------+--------+--------------+-------------+-------------------------+---------------------+---------------+----------------+-------------------------+-------------------------+----------------+\n",
      "only showing top 20 rows\n",
      "\n"
     ]
    }
   ],
   "source": [
    "df_ocupacion_hotelera.filter(col(\"provincia\").like(\"%BAR%\")).show(20,False)"
   ]
  },
  {
   "cell_type": "code",
   "execution_count": 13,
   "id": "b270f4c2",
   "metadata": {},
   "outputs": [],
   "source": [
    "df_ocupacion_hotelera = (\n",
    "    df_ocupacion_hotelera\n",
    "    .filter(col(\"lugarResidencia\") == \"TOTAL\")\n",
    "    .filter(col(\"provincia\") == \"BARCELONA\")\n",
    "    .withColumn(\n",
    "        \"diasMes\",\n",
    "        dias_mes(col(\"año\"),col(\"mes\"))\n",
    "    )\n",
    "    .withColumn(\n",
    "        \"TasaOcupacion\",\n",
    "        when(\n",
    "            (col(\"plazasEstimadas\").isNotNull()) & (col(\"plazasEstimadas\") > 0),\n",
    "            (col(\"pernoctaciones\") / (col(\"plazasEstimadas\") * col(\"diasMes\"))) * 100\n",
    "        ).otherwise(None)\n",
    "    )\n",
    ")\n",
    "\n"
   ]
  },
  {
   "cell_type": "code",
   "execution_count": 14,
   "id": "617b8b9a",
   "metadata": {},
   "outputs": [
    {
     "name": "stdout",
     "output_type": "stream",
     "text": [
      "+----+---+--------------+---------------+---------+--------+--------------+-------------+-------------------------+---------------------+---------------+----------------+-------------------------+-------------------------+----------------+-------+------------------+\n",
      "| año|mes|puntoTuristico|lugarResidencia|provincia|viajeros|pernoctaciones|estanciaMedia|establecimientosEstimados|habitacionesEstimadas|plazasEstimadas|gradoOcupaPlazas|gradoOcupaPlazasFinSemana|gradoOcupaPorHabitaciones|personalEmpleado|diasMes|     TasaOcupacion|\n",
      "+----+---+--------------+---------------+---------+--------+--------------+-------------+-------------------------+---------------------+---------------+----------------+-------------------------+-------------------------+----------------+-------+------------------+\n",
      "|2012|  1|     BARCELONA|          TOTAL|BARCELONA|  377320|        848258|         2.25|                      491|                 NULL|          66531|            41.0|                    43.41|                    45.75|           11244|     31| 41.12843830743951|\n",
      "|2012|  2|     BARCELONA|          TOTAL|BARCELONA|  446865|       1028058|          2.3|                      491|                 NULL|          66555|           53.01|                    57.25|                     63.8|           11200|     29|53.264632051790194|\n",
      "|2012|  3|     BARCELONA|          TOTAL|BARCELONA|  559189|       1259113|         2.25|                      505|                 NULL|          66879|           60.36|                    64.15|                    68.22|           11421|     31| 60.73139309364192|\n",
      "|2012|  4|     BARCELONA|          TOTAL|BARCELONA|  606832|       1519428|          2.5|                      516|                 NULL|          67257|           74.44|                     78.7|                     82.3|           11567|     30|  75.3045779621452|\n",
      "|2012|  5|     BARCELONA|          TOTAL|BARCELONA|  598532|       1463315|         2.44|                      519|                 NULL|          66766|           70.17|                    78.84|                    80.45|           11603|     31| 70.70022118656105|\n",
      "|2012|  6|     BARCELONA|          TOTAL|BARCELONA|  595486|       1456609|         2.45|                      511|                 NULL|          67245|           71.55|                    75.57|                    79.79|           11776|     30| 72.20407960938854|\n",
      "|2012|  7|     BARCELONA|          TOTAL|BARCELONA|  674485|       1769348|         2.62|                      523|                 NULL|          67657|           82.68|                    84.87|                    87.31|           11920|     31| 84.36043858800105|\n",
      "|2012|  8|     BARCELONA|          TOTAL|BARCELONA|  629178|       1786183|         2.84|                      526|                 NULL|          68024|            82.9|                    82.97|                    84.48|           12031|     31| 84.70364349584398|\n",
      "|2012|  9|     BARCELONA|          TOTAL|BARCELONA|  613207|       1548265|         2.52|                      528|                 NULL|          68426|           74.82|                    78.25|                    82.23|           11979|     30| 75.42284122019896|\n",
      "|2012| 10|     BARCELONA|          TOTAL|BARCELONA|  614721|       1548454|         2.52|                      531|                 NULL|          68957|           71.83|                    78.45|                    83.42|           11953|     31| 72.43663302095229|\n",
      "|2012| 11|     BARCELONA|          TOTAL|BARCELONA|  465849|       1098158|         2.36|                      520|                 NULL|          68939|           52.85|                    60.16|                    61.24|           11630|     30|53.098052867994404|\n",
      "|2012| 12|     BARCELONA|          TOTAL|BARCELONA|  373988|        858980|          2.3|                      504|                 NULL|          69198|           39.84|                    47.76|                    45.24|           11602|     31| 40.04311144551073|\n",
      "|2013|  1|     BARCELONA|          TOTAL|BARCELONA|  344856|        833224|         2.42|                      510|                 NULL|          68395|           39.15|                    42.28|                    44.97|           11277|     31|39.298477298614074|\n",
      "|2013|  2|     BARCELONA|          TOTAL|BARCELONA|  399830|        963824|         2.41|                      505|                 NULL|          68225|           50.28|                    52.91|                    62.61|           11347|     28|50.454064806574884|\n",
      "|2013|  3|     BARCELONA|          TOTAL|BARCELONA|  513254|       1277095|         2.49|                      527|                 NULL|          68975|           59.12|                    65.71|                    67.32|           11525|     31|  59.7268762641911|\n",
      "|2013|  4|     BARCELONA|          TOTAL|BARCELONA|  577810|       1429051|         2.47|                      527|                 NULL|          69291|           68.13|                    76.35|                    78.24|           11835|     30| 68.74634993481597|\n",
      "|2013|  5|     BARCELONA|          TOTAL|BARCELONA|  615066|       1580936|         2.57|                      525|                 NULL|          68590|           73.41|                    81.84|                     82.9|           11785|     31| 74.35185228731734|\n",
      "|2013|  6|     BARCELONA|          TOTAL|BARCELONA|  602340|       1512948|         2.51|                      525|                 NULL|          69363|           71.92|                    77.89|                    82.42|           12016|     30| 72.70677450513962|\n",
      "|2013|  7|     BARCELONA|          TOTAL|BARCELONA|  658236|       1772398|         2.69|                      556|                 NULL|          71267|           78.24|                    80.69|                    85.35|           12330|     31| 80.22525016102553|\n",
      "|2013|  8|     BARCELONA|          TOTAL|BARCELONA|  665491|       1898500|         2.85|                      546|                 NULL|          71454|           83.43|                    83.43|                    87.29|           12329|     31| 85.70819755908832|\n",
      "+----+---+--------------+---------------+---------+--------+--------------+-------------+-------------------------+---------------------+---------------+----------------+-------------------------+-------------------------+----------------+-------+------------------+\n",
      "only showing top 20 rows\n",
      "\n"
     ]
    }
   ],
   "source": [
    "df_ocupacion_hotelera.show()"
   ]
  },
  {
   "cell_type": "code",
   "execution_count": 15,
   "id": "bb3beb40",
   "metadata": {},
   "outputs": [],
   "source": [
    "utils.overwrite_iceberg_table(spark,df_ocupacion_hotelera,db_name,table_name)"
   ]
  }
 ],
 "metadata": {
  "kernelspec": {
   "display_name": "TravelMind-69GU69Sq",
   "language": "python",
   "name": "python3"
  },
  "language_info": {
   "codemirror_mode": {
    "name": "ipython",
    "version": 3
   },
   "file_extension": ".py",
   "mimetype": "text/x-python",
   "name": "python",
   "nbconvert_exporter": "python",
   "pygments_lexer": "ipython3",
   "version": "3.10.11"
  }
 },
 "nbformat": 4,
 "nbformat_minor": 5
}
