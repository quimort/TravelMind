{
 "cells": [
  {
   "cell_type": "code",
   "execution_count": null,
   "id": "948969b4",
   "metadata": {},
   "outputs": [],
   "source": [
    "from pyspark.sql import SparkSession,DataFrame\n",
    "from pyspark.sql.functions import *\n",
    "from pyspark.sql.types import *\n",
    "import unicodedata\n",
    "import re\n",
    "import utils as utils\n",
    "from calendar import monthrange"
   ]
  },
  {
   "cell_type": "code",
   "execution_count": null,
   "id": "9b474c4b",
   "metadata": {},
   "outputs": [],
   "source": [
    "source_db = \"trusted\"\n",
    "source_tables = [\"f_flujo_aereo\",\"f_ocupacion_hotelera\"]\n",
    "db_name = \"exploitation\"\n",
    "table_name = \"f_ocupacion_ciudad\""
   ]
  },
  {
   "cell_type": "code",
   "execution_count": null,
   "id": "0b62bf55",
   "metadata": {},
   "outputs": [],
   "source": [
    "spark = utils.create_context()"
   ]
  },
  {
   "cell_type": "code",
   "execution_count": null,
   "id": "226cfef4",
   "metadata": {},
   "outputs": [],
   "source": [
    "df_ocupacion_hotelera = utils.read_iceberg_table(spark,db_name,table_name)"
   ]
  },
  {
   "cell_type": "code",
   "execution_count": null,
   "id": "499182f3",
   "metadata": {},
   "outputs": [],
   "source": [
    "@udf(IntegerType())\n",
    "def dias_mes(year,month):\n",
    "\n",
    "    days = monthrange(year,month)[1]\n",
    "\n",
    "    return days\n"
   ]
  },
  {
   "cell_type": "code",
   "execution_count": null,
   "id": "b270f4c2",
   "metadata": {},
   "outputs": [],
   "source": [
    "df_ocupacion_hotelera = (\n",
    "    df_ocupacion_hotelera\n",
    "    .filter(col(\"lugarResidencia\") == \"Total\")\n",
    "    .withColumn(\n",
    "        \"diasMes\",\n",
    "        dias_mes(col(\"año\"),col(\"mes\"))\n",
    "    )\n",
    "    .withColumn(\n",
    "        \"Tasaocupacion\",\n",
    "        when(\n",
    "            (col(\"plazasEstimadas\").isNotNull()) & (col(\"plazasEstimadas\") > 0),\n",
    "            (col(\"pernoctaciones\") / (col(\"plazasEstimadas\") * col(\"diasMes\"))) * 100\n",
    "        ).otherwise(None)\n",
    "    )\n",
    ")\n",
    "\n"
   ]
  }
 ],
 "metadata": {
  "language_info": {
   "name": "python"
  }
 },
 "nbformat": 4,
 "nbformat_minor": 5
}
