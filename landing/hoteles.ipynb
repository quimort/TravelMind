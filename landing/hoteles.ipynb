{
 "cells": [
  {
   "cell_type": "code",
   "execution_count": 1,
   "id": "81abfcbd",
   "metadata": {},
   "outputs": [],
   "source": [
    "import pyspark\n",
    "from pyspark.sql import SparkSession,DataFrame\n",
    "import requests\n",
    "import json \n",
    "from io import BytesIO\n",
    "import pandas as pd\n",
    "import os\n",
    "import sys\n",
    "import utils as utils"
   ]
  },
  {
   "cell_type": "code",
   "execution_count": 2,
   "id": "a6e32258",
   "metadata": {},
   "outputs": [],
   "source": [
    "db_name = \"landing\"\n",
    "table_name = \"hoteles_punto_turistico\""
   ]
  },
  {
   "cell_type": "code",
   "execution_count": 3,
   "id": "350ffa9d",
   "metadata": {},
   "outputs": [],
   "source": [
    "path = \"https://dataestur.azure-api.net/API-SEGITTUR-v1/EOH_PUNT_TUR_DL\"\n",
    "filter = \"Punto%20tur%C3%ADstico=Todos&Lugar%20de%20residencia=Todos&Provincia=Todos\"\n",
    "\n",
    "spark = utils.create_context()\n",
    "\n",
    "df = utils.get_api_endpoint_excel(spark,path,filter)\n",
    "\n",
    "\n",
    "utils.overwrite_iceberg_table(spark,df,db_name,table_name)"
   ]
  }
 ],
 "metadata": {
  "kernelspec": {
   "display_name": "TravelMind-69GU69Sq",
   "language": "python",
   "name": "python3"
  },
  "language_info": {
   "codemirror_mode": {
    "name": "ipython",
    "version": 3
   },
   "file_extension": ".py",
   "mimetype": "text/x-python",
   "name": "python",
   "nbconvert_exporter": "python",
   "pygments_lexer": "ipython3",
   "version": "3.10.11"
  }
 },
 "nbformat": 4,
 "nbformat_minor": 5
}
