{
 "cells": [
  {
   "cell_type": "code",
   "execution_count": 1,
   "id": "81abfcbd",
   "metadata": {},
   "outputs": [],
   "source": [
    "import pyspark\n",
    "from pyspark.sql import SparkSession,DataFrame\n",
    "import requests\n",
    "import json \n",
    "from io import BytesIO\n",
    "import pandas as pd\n",
    "import os\n",
    "import sys\n",
    "import utils as utils"
   ]
  },
  {
   "cell_type": "code",
   "execution_count": 2,
   "id": "a6e32258",
   "metadata": {},
   "outputs": [],
   "source": [
    "db_name = \"landing\"\n",
    "table_name = \"hoteles_punto_turistico\""
   ]
  },
  {
   "cell_type": "code",
   "execution_count": 4,
   "id": "350ffa9d",
   "metadata": {},
   "outputs": [
    {
     "name": "stdout",
     "output_type": "stream",
     "text": [
      "Error 500: no se pudo obtener el archivo.\n"
     ]
    },
    {
     "ename": "AttributeError",
     "evalue": "'NoneType' object has no attribute 'show'",
     "output_type": "error",
     "traceback": [
      "\u001b[1;31m---------------------------------------------------------------------------\u001b[0m",
      "\u001b[1;31mAttributeError\u001b[0m                            Traceback (most recent call last)",
      "Cell \u001b[1;32mIn[4], line 8\u001b[0m\n\u001b[0;32m      4\u001b[0m spark \u001b[38;5;241m=\u001b[39m utils\u001b[38;5;241m.\u001b[39mcreate_context()\n\u001b[0;32m      6\u001b[0m df \u001b[38;5;241m=\u001b[39m utils\u001b[38;5;241m.\u001b[39mget_api_endpoint_excel(spark,path,\u001b[38;5;28mfilter\u001b[39m)\n\u001b[1;32m----> 8\u001b[0m \u001b[43mdf\u001b[49m\u001b[38;5;241;43m.\u001b[39;49m\u001b[43mshow\u001b[49m()\n\u001b[0;32m      9\u001b[0m utils\u001b[38;5;241m.\u001b[39moverwrite_iceberg_table(spark,df,db_name,table_name)\n",
      "\u001b[1;31mAttributeError\u001b[0m: 'NoneType' object has no attribute 'show'"
     ]
    }
   ],
   "source": [
    "path = \"https://dataestur.azure-api.net/API-SEGITTUR-v1/EOH_PUNT_TUR_DL\"\n",
    "filter = \"Punto%20tur%C3%ADstico=Todos&Lugar%20de%20residencia=Todos&Provincia=Todos\"\n",
    "\n",
    "spark = utils.create_context()\n",
    "\n",
    "df = utils.get_api_endpoint_excel(spark,path,filter)\n",
    "\n",
    "df.show()\n",
    "utils.overwrite_iceberg_table(spark,df,db_name,table_name)"
   ]
  }
 ],
 "metadata": {
  "kernelspec": {
   "display_name": "TravelMind-69GU69Sq",
   "language": "python",
   "name": "python3"
  },
  "language_info": {
   "codemirror_mode": {
    "name": "ipython",
    "version": 3
   },
   "file_extension": ".py",
   "mimetype": "text/x-python",
   "name": "python",
   "nbconvert_exporter": "python",
   "pygments_lexer": "ipython3",
   "version": "3.10.11"
  }
 },
 "nbformat": 4,
 "nbformat_minor": 5
}
