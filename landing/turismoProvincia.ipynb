{
 "cells": [
  {
   "cell_type": "code",
   "execution_count": 1,
   "id": "81abfcbd",
   "metadata": {},
   "outputs": [],
   "source": [
    "import pyspark\n",
    "from pyspark.sql import SparkSession,DataFrame\n",
    "import requests\n",
    "import json \n",
    "from io import BytesIO\n",
    "import pandas as pd\n",
    "import os\n",
    "import sys\n",
    "import utils as utils"
   ]
  },
  {
   "cell_type": "code",
   "execution_count": 2,
   "id": "24b8135c",
   "metadata": {},
   "outputs": [],
   "source": [
    "spark = utils.create_context()\n",
    "\n",
    "path  = \"https://dataestur.azure-api.net/API-SEGITTUR-v1/TURISMO_INTERNO_PROV_CCAA_DL\"\n",
    "query = \"CCAA%20origen=Todos&Provincia%20origen=Todos&CCAA%20destino=Todos&Provincia%20destino=Todos\"\n",
    "db_name = \"landing\"\n",
    "table_name = \"turismo_Provincia\"\n",
    "df = utils.get_api_endpoint_data(spark, path, filter)\n",
    "utils.overwrite_iceberg_table(spark, df, db_name, table_name)\n",
    "\n"
   ]
  },
  {
   "cell_type": "code",
   "execution_count": 3,
   "id": "0190711c",
   "metadata": {},
   "outputs": [
    {
     "name": "stdout",
     "output_type": "stream",
     "text": [
      "+----+---+-----------+----------------+--------------------+--------------------+--------+--------------+--------------+\n",
      "| AÑO|MES|CCAA_ORIGEN|PROVINCIA_ORIGEN|        CCAA_DESTINO|   PROVINCIA_DESTINO|TURISTAS|PERNOCTACIONES|ESTANCIA_MEDIA|\n",
      "+----+---+-----------+----------------+--------------------+--------------------+--------+--------------+--------------+\n",
      "|2019|  7|  Andalucía|         Almería|           Andalucía|               Cádiz|  8910.0|       33536.0|           3.8|\n",
      "|2019|  7|  Andalucía|         Almería|           Andalucía|             Córdoba|  3468.0|       11981.0|           3.5|\n",
      "|2019|  7|  Andalucía|         Almería|           Andalucía|             Granada| 49626.0|      141865.0|           2.9|\n",
      "|2019|  7|  Andalucía|         Almería|           Andalucía|              Huelva|  2801.0|       10920.0|           3.9|\n",
      "|2019|  7|  Andalucía|         Almería|           Andalucía|                Jaén|  9247.0|       34155.0|           3.7|\n",
      "|2019|  7|  Andalucía|         Almería|           Andalucía|              Málaga| 20363.0|       63758.0|           3.1|\n",
      "|2019|  7|  Andalucía|         Almería|           Andalucía|             Sevilla|  6920.0|       21577.0|           3.1|\n",
      "|2019|  7|  Andalucía|         Almería|              Aragón|              Huesca|   666.0|        4719.0|           7.1|\n",
      "|2019|  7|  Andalucía|         Almería|              Aragón|              Teruel|   515.0|        2338.0|           4.5|\n",
      "|2019|  7|  Andalucía|         Almería|              Aragón|            Zaragoza|   975.0|        4919.0|           5.0|\n",
      "|2019|  7|  Andalucía|         Almería|            Canarias|          Las Palmas|   682.0|        5210.0|           7.6|\n",
      "|2019|  7|  Andalucía|         Almería|            Canarias|Santa Cruz de Ten...|  1027.0|        6791.0|           6.6|\n",
      "|2019|  7|  Andalucía|         Almería|           Cantabria|           Cantabria|   895.0|        5924.0|           6.6|\n",
      "|2019|  7|  Andalucía|         Almería|Castilla - La Mancha|            Albacete|  1655.0|        6192.0|           3.7|\n",
      "|2019|  7|  Andalucía|         Almería|Castilla - La Mancha|         Ciudad Real|  2183.0|        8677.0|           4.0|\n",
      "|2019|  7|  Andalucía|         Almería|Castilla - La Mancha|              Cuenca|   535.0|        2207.0|           4.1|\n",
      "|2019|  7|  Andalucía|         Almería|Castilla - La Mancha|         Guadalajara|   658.0|        3131.0|           4.8|\n",
      "|2019|  7|  Andalucía|         Almería|Castilla - La Mancha|              Toledo|  1332.0|        5313.0|           4.0|\n",
      "|2019|  7|  Andalucía|         Almería|     Castilla y León|              Burgos|   650.0|        3303.0|           5.1|\n",
      "|2019|  7|  Andalucía|         Almería|     Castilla y León|                León|   396.0|        2586.0|           6.5|\n",
      "+----+---+-----------+----------------+--------------------+--------------------+--------+--------------+--------------+\n",
      "only showing top 20 rows\n",
      "\n"
     ]
    }
   ],
   "source": [
    "df = utils.read_iceberg_table(spark,db_name,table_name)\n",
    "df.show()"
   ]
  }
 ],
 "metadata": {
  "kernelspec": {
   "display_name": "TravelMind--WcSvJCM",
   "language": "python",
   "name": "python3"
  },
  "language_info": {
   "codemirror_mode": {
    "name": "ipython",
    "version": 3
   },
   "file_extension": ".py",
   "mimetype": "text/x-python",
   "name": "python",
   "nbconvert_exporter": "python",
   "pygments_lexer": "ipython3",
   "version": "3.11.9"
  }
 },
 "nbformat": 4,
 "nbformat_minor": 5
}
