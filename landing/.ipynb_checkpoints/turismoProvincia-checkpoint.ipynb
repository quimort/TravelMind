{
 "cells": [
  {
   "cell_type": "code",
   "execution_count": null,
   "id": "81abfcbd",
   "metadata": {},
   "outputs": [],
   "source": [
    "import pyspark\n",
    "from pyspark.sql import SparkSession,DataFrame\n",
    "import requests\n",
    "import json \n",
    "from io import BytesIO\n",
    "import pandas as pd\n",
    "import os\n",
    "import sys\n",
    "import utils as utils"
   ]
  },
  {
   "cell_type": "code",
   "execution_count": null,
   "id": "24b8135c",
   "metadata": {},
   "outputs": [],
   "source": [
    "spark = utils.create_context()\n",
    "\n",
    "path  = \"https://dataestur.azure-api.net/API-SEGITTUR-v1/TURISMO_INTERNO_PROV_CCAA_DL\"\n",
    "query = \"CCAA%20origen=Todos&Provincia%20origen=Todos&CCAA%20destino=Todos&Provincia%20destino=Todos\"\n",
    "db_name = \"landing\"\n",
    "table_name = \"turismo_Provincia\"\n",
    "df = utils.get_api_endpoint_data(spark, path, filter)\n",
    "utils.overwrite_iceberg_table(spark, df, db_name, table_name)\n",
    "\n"
   ]
  },
  {
   "cell_type": "code",
   "execution_count": null,
   "id": "0190711c",
   "metadata": {},
   "outputs": [],
   "source": [
    "df = utils.read_iceberg_table(spark,db_name,table_name)\n",
    "df.show()"
   ]
  }
 ],
 "metadata": {
  "kernelspec": {
   "display_name": ".venv (3.13.0)",
   "language": "python",
   "name": "python3"
  },
  "language_info": {
   "codemirror_mode": {
    "name": "ipython",
    "version": 3
   },
   "file_extension": ".py",
   "mimetype": "text/x-python",
   "name": "python",
   "nbconvert_exporter": "python",
   "pygments_lexer": "ipython3",
   "version": "3.13.0"
  }
 },
 "nbformat": 4,
 "nbformat_minor": 5
}
