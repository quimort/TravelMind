{
 "cells": [
  {
   "cell_type": "code",
   "execution_count": 6,
   "id": "e49ebc91",
   "metadata": {},
   "outputs": [],
   "source": [
    "import pyspark\n",
    "from pyspark.sql import SparkSession,DataFrame\n",
    "import requests\n",
    "import json \n",
    "from io import BytesIO\n",
    "import pandas as pd\n",
    "import os\n",
    "import sys\n",
    "import utils as utils"
   ]
  },
  {
   "cell_type": "code",
   "execution_count": null,
   "id": "881d20a4",
   "metadata": {},
   "outputs": [],
   "source": [
    "db_name = \"landing\"\n",
    "table_name = \"aena\""
   ]
  },
  {
   "cell_type": "code",
   "execution_count": 8,
   "id": "5306f85d",
   "metadata": {},
   "outputs": [],
   "source": [
    "path = \"https://dataestur.azure-api.net/API-SEGITTUR-v1/AENA_DESTINOS_DL\"\n",
    "\n",
    "spark = utils.create_context()\n",
    "\n",
    "\n",
    "df = utils.get_api_endpoint_excel(spark,path)\n",
    "\n",
    "utils.overwrite_iceberg_table(spark,df,db_name,table_name)\n"
   ]
  }
 ],
 "metadata": {
  "kernelspec": {
   "display_name": "TravelMind-qBbuPuBh",
   "language": "python",
   "name": "python3"
  },
  "language_info": {
   "codemirror_mode": {
    "name": "ipython",
    "version": 3
   },
   "file_extension": ".py",
   "mimetype": "text/x-python",
   "name": "python",
   "nbconvert_exporter": "python",
   "pygments_lexer": "ipython3",
   "version": "3.11.5"
  }
 },
 "nbformat": 4,
 "nbformat_minor": 5
}
