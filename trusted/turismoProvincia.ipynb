{
 "cells": [
  {
   "cell_type": "code",
   "execution_count": 1,
   "id": "cd12423d",
   "metadata": {},
   "outputs": [],
   "source": [
    "from pyspark.sql import SparkSession\n",
    "from pyspark.sql.functions import upper, col\n",
    "import os\n",
    "import utils\n",
    "import pyspark\n",
    "from pyspark.sql import SparkSession,DataFrame\n",
    "import requests\n",
    "import json \n",
    "from io import BytesIO\n",
    "import pandas as pd\n",
    "import os\n",
    "import sys\n",
    "import utils as utils\n"
   ]
  },
  {
   "cell_type": "code",
   "execution_count": null,
   "id": "1366877f",
   "metadata": {},
   "outputs": [],
   "source": [
    "# 1) Re-use the same Iceberg-aware session for read & write\n",
    "spark = utils.create_context()\n",
    "\n",
    "\n",
    "# Read landing-zone Iceberg table\n",
    "src_db, src_tbl = \"landing\", \"turismo_Provincia\"\n",
    "print(f\"→ Reading spark_catalog.{src_db}.{src_tbl}\")\n",
    "df = utils.read_iceberg_table(spark, src_db, src_tbl)\n",
    "# 5) Clean & normalize\n",
    "df_clean = df.dropna()\n",
    "for c in [\"CCAA_ORIGEN\",\"PROVINCIA_ORIGEN\",\"CCAA_DESTINO\",\"PROVINCIA_DESTINO\"]:\n",
    "    df_clean = df_clean.withColumn(c, upper(col(c)))\n",
    "# Write into exploitation zone\n",
    "tgt_db, tgt_tbl = \"trusted\", \"turismo_Provincia\"\n",
    "print(f\"→ Writing spark_catalog.{tgt_db}.{tgt_tbl}\")\n",
    "utils.overwrite_iceberg_table(spark, df_clean, tgt_db, tgt_tbl)\n",
    "\n",
    "print(\"✅ Trusted load complete.\")\n",
    "\n",
    "\n",
    "spark.stop()"
   ]
  }
 ],
 "metadata": {
  "kernelspec": {
   "display_name": "TravelMind--WcSvJCM",
   "language": "python",
   "name": "python3"
  },
  "language_info": {
   "codemirror_mode": {
    "name": "ipython",
    "version": 3
   },
   "file_extension": ".py",
   "mimetype": "text/x-python",
   "name": "python",
   "nbconvert_exporter": "python",
   "pygments_lexer": "ipython3",
   "version": "3.11.9"
  }
 },
 "nbformat": 4,
 "nbformat_minor": 5
}
