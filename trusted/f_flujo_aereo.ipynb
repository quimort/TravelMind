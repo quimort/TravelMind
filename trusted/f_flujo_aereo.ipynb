{
 "cells": [
  {
   "cell_type": "code",
   "execution_count": null,
   "id": "1847a889",
   "metadata": {},
   "outputs": [],
   "source": [
    "from pyspark.sql import SparkSession,DataFrame\n",
    "from pyspark.sql.functions import *\n",
    "from pyspark.sql.types import *\n",
    "import unicodedata\n",
    "import re\n",
    "import utils as utils"
   ]
  },
  {
   "cell_type": "code",
   "execution_count": 2,
   "id": "b8df50ed",
   "metadata": {},
   "outputs": [],
   "source": [
    "source_db = \"landing\"\n",
    "source_table = \"aena\"\n",
    "db_name = \"trusted\"\n",
    "table_name = \"f_flujo_aereo\""
   ]
  },
  {
   "cell_type": "code",
   "execution_count": 3,
   "id": "ed608a9c",
   "metadata": {},
   "outputs": [],
   "source": [
    "spark = utils.create_context()"
   ]
  },
  {
   "cell_type": "code",
   "execution_count": 4,
   "id": "2fedbd7f",
   "metadata": {},
   "outputs": [
    {
     "name": "stdout",
     "output_type": "stream",
     "text": [
      "../data/warehouse\n"
     ]
    }
   ],
   "source": [
    "print(spark.conf.get(\"spark.sql.catalog.spark_catalog.warehouse\"))"
   ]
  },
  {
   "cell_type": "code",
   "execution_count": 5,
   "id": "2818233a",
   "metadata": {},
   "outputs": [
    {
     "name": "stdout",
     "output_type": "stream",
     "text": [
      "+----+---+--------------------+---------------------+\n",
      "| AÑO|MES|     AEROPUERTO_AENA|PASAJEROS_POR_DESTINO|\n",
      "+----+---+--------------------+---------------------+\n",
      "|2004|  1|JT Barcelona-El Prat|              1487280|\n",
      "|2004|  2|JT Barcelona-El Prat|              1681762|\n",
      "|2004|  3|JT Barcelona-El Prat|              1943771|\n",
      "|2004|  4|JT Barcelona-El Prat|              2030420|\n",
      "|2004|  5|JT Barcelona-El Prat|              2128796|\n",
      "|2004|  6|JT Barcelona-El Prat|              2203999|\n",
      "|2004|  7|JT Barcelona-El Prat|              2377152|\n",
      "|2004|  8|JT Barcelona-El Prat|              2503196|\n",
      "|2004|  9|JT Barcelona-El Prat|              2262870|\n",
      "|2004| 10|JT Barcelona-El Prat|              2186597|\n",
      "|2004| 11|JT Barcelona-El Prat|              1846926|\n",
      "|2004| 12|JT Barcelona-El Prat|              1711314|\n",
      "|2005|  1|JT Barcelona-El Prat|              1619040|\n",
      "|2005|  2|JT Barcelona-El Prat|              1766193|\n",
      "|2005|  3|JT Barcelona-El Prat|              2159888|\n",
      "|2005|  4|JT Barcelona-El Prat|              2196228|\n",
      "|2005|  5|JT Barcelona-El Prat|              2426081|\n",
      "|2005|  6|JT Barcelona-El Prat|              2440435|\n",
      "|2005|  7|JT Barcelona-El Prat|              2682723|\n",
      "|2005|  8|JT Barcelona-El Prat|              2784941|\n",
      "+----+---+--------------------+---------------------+\n",
      "only showing top 20 rows\n",
      "\n"
     ]
    }
   ],
   "source": [
    "test = utils.read_iceberg_table(spark,\"local_db\",\"aena_barcelona\")\n",
    "\n",
    "test.show()"
   ]
  },
  {
   "cell_type": "code",
   "execution_count": null,
   "id": "ae8fd70a",
   "metadata": {},
   "outputs": [],
   "source": [
    "@udf(StringType())\n",
    "def normalize_text(text:str):\n",
    "\n",
    "    if test is None:\n",
    "        return \"\"\n",
    "    \n",
    "    # 1. Normalizar (separar letras de tildes)\n",
    "    texto_normalizado = unicodedata.normalize('NFKD', text)\n",
    "    \n",
    "    # 2. Eliminar acentos (caracteres \"combining\")\n",
    "    texto_sin_acentos = ''.join(\n",
    "        c for c in texto_normalizado if not unicodedata.combining(c)\n",
    "    )\n",
    "    \n",
    "    # 3. Eliminar puntuación (todo lo que no sea letra, número o espacio)\n",
    "    texto_sin_puntuacion = re.sub(r'[^A-Za-z0-9\\s]', '', texto_sin_acentos)\n",
    "    \n",
    "    # 4. Eliminar espacios extra\n",
    "    texto_limpio = ' '.join(texto_sin_puntuacion.split())\n",
    "    \n",
    "    # 5. Convertir a mayúsculas\n",
    "    return texto_limpio.upper()"
   ]
  },
  {
   "cell_type": "code",
   "execution_count": null,
   "id": "c980f974",
   "metadata": {},
   "outputs": [],
   "source": [
    "\n",
    "df = utils.read_iceberg_table(spark,db_name,table_name)\n",
    "\n",
    "# convert each column to normalized type\n",
    "df = df.select(\n",
    "    col(\"AÑO\").alias(\"year\"),\n",
    "    col(\"MES\").alias(\"month\"),\n",
    "    normalize_text(col(\"AEROPUERTO_AENA\")).alias(\"aeirport\"),\n",
    "    col(\"PASAJEROS_POR_DESTINO\").alias(\"numPassangers\").cast(IntegerType())\n",
    ")"
   ]
  }
 ],
 "metadata": {
  "kernelspec": {
   "display_name": "TravelMind-69GU69Sq",
   "language": "python",
   "name": "python3"
  },
  "language_info": {
   "codemirror_mode": {
    "name": "ipython",
    "version": 3
   },
   "file_extension": ".py",
   "mimetype": "text/x-python",
   "name": "python",
   "nbconvert_exporter": "python",
   "pygments_lexer": "ipython3",
   "version": "3.10.11"
  }
 },
 "nbformat": 4,
 "nbformat_minor": 5
}
