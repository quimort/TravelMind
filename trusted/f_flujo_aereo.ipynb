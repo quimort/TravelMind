{
 "cells": [
  {
   "cell_type": "code",
   "execution_count": null,
   "id": "1847a889",
   "metadata": {},
   "outputs": [],
   "source": [
    "from pyspark.sql import SparkSession,DataFrame\n",
    "from pyspark.sql.functions import *\n",
    "from pyspark.sql.types import *\n",
    "import unicodedata\n",
    "import re\n",
    "import utils as utils"
   ]
  },
  {
   "cell_type": "code",
   "execution_count": 2,
   "id": "b8df50ed",
   "metadata": {},
   "outputs": [],
   "source": [
    "source_db = \"landing\"\n",
    "source_table = \"aena\"\n",
    "db_name = \"trusted\"\n",
    "table_name = \"f_flujo_aereo\""
   ]
  },
  {
   "cell_type": "code",
   "execution_count": 3,
   "id": "ed608a9c",
   "metadata": {},
   "outputs": [],
   "source": [
    "spark = utils.create_context()"
   ]
  },
  {
   "cell_type": "code",
   "execution_count": null,
   "id": "ae8fd70a",
   "metadata": {},
   "outputs": [],
   "source": [
    "@udf(StringType())\n",
    "def normalize_text(text:str):\n",
    "\n",
    "    if text is None:\n",
    "        return \"\"\n",
    "    \n",
    "    # 1. Normalizar (separar letras de tildes)\n",
    "    texto_normalizado = unicodedata.normalize('NFKD', text)\n",
    "    \n",
    "    # 2. Eliminar acentos (caracteres \"combining\")\n",
    "    texto_sin_acentos = ''.join(\n",
    "        c for c in texto_normalizado if not unicodedata.combining(c)\n",
    "    )\n",
    "    \n",
    "    # 3. Eliminar puntuación (todo lo que no sea letra, número o espacio)\n",
    "    texto_sin_puntuacion = re.sub(r'[^A-Za-z0-9\\s]', '', texto_sin_acentos)\n",
    "    \n",
    "    # 4. Eliminar espacios extra\n",
    "    texto_limpio = ' '.join(texto_sin_puntuacion.split())\n",
    "    \n",
    "    # 5. Convertir a mayúsculas\n",
    "    return texto_limpio.upper()"
   ]
  },
  {
   "cell_type": "code",
   "execution_count": null,
   "id": "c980f974",
   "metadata": {},
   "outputs": [],
   "source": [
    "\n",
    "df = utils.read_iceberg_table(spark,db_name,table_name)\n",
    "\n",
    "# convert each column to normalized type\n",
    "df = df.select(\n",
    "    col(\"AÑO\").alias(\"año\"),\n",
    "    col(\"MES\").alias(\"mes\"),\n",
    "    normalize_text(col(\"AEROPUERTO_AENA\")).alias(\"earopuertoAena\"),\n",
    "    col(\"PASAJEROS_POR_DESTINO\").alias(\"passajerosPorDestino\").cast(IntegerType())\n",
    ")"
   ]
  },
  {
   "cell_type": "code",
   "execution_count": null,
   "id": "952ce71b",
   "metadata": {},
   "outputs": [],
   "source": [
    "utils.overwrite_iceberg_table(spark,df,db_name,table_name)"
   ]
  }
 ],
 "metadata": {
  "kernelspec": {
   "display_name": "TravelMind-69GU69Sq",
   "language": "python",
   "name": "python3"
  },
  "language_info": {
   "codemirror_mode": {
    "name": "ipython",
    "version": 3
   },
   "file_extension": ".py",
   "mimetype": "text/x-python",
   "name": "python",
   "nbconvert_exporter": "python",
   "pygments_lexer": "ipython3",
   "version": "3.10.11"
  }
 },
 "nbformat": 4,
 "nbformat_minor": 5
}
