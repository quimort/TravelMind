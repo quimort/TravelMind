{
 "cells": [
  {
   "cell_type": "code",
   "execution_count": 1,
   "id": "738b8ff5",
   "metadata": {},
   "outputs": [],
   "source": [
    "from pyspark.sql import SparkSession,DataFrame\n",
    "from pyspark.sql.functions import *\n",
    "from pyspark.sql.types import *\n",
    "import unicodedata\n",
    "import re\n",
    "import utils as utils"
   ]
  },
  {
   "cell_type": "code",
   "execution_count": null,
   "id": "098ce401",
   "metadata": {},
   "outputs": [],
   "source": [
    "source_db = \"landing\"\n",
    "source_table = \"aena\"\n",
    "db_name = \"trusted\"\n",
    "table_name = \"f_ocupacion_hotelera\""
   ]
  },
  {
   "cell_type": "code",
   "execution_count": 2,
   "id": "fcaf24e2",
   "metadata": {},
   "outputs": [],
   "source": [
    "spark = utils.create_context()"
   ]
  },
  {
   "cell_type": "code",
   "execution_count": null,
   "id": "912623f3",
   "metadata": {},
   "outputs": [],
   "source": [
    "@udf(StringType())\n",
    "def normalize_text(text:str):\n",
    "\n",
    "    if text is None:\n",
    "        return \"\"\n",
    "    \n",
    "    # 1. Normalizar (separar letras de tildes)\n",
    "    texto_normalizado = unicodedata.normalize('NFKD', text)\n",
    "    \n",
    "    # 2. Eliminar acentos (caracteres \"combining\")\n",
    "    texto_sin_acentos = ''.join(\n",
    "        c for c in texto_normalizado if not unicodedata.combining(c)\n",
    "    )\n",
    "    \n",
    "    # 3. Eliminar puntuación (todo lo que no sea letra, número o espacio)\n",
    "    texto_sin_puntuacion = re.sub(r'[^A-Za-z0-9\\s]', '', texto_sin_acentos)\n",
    "    \n",
    "    # 4. Eliminar espacios extra\n",
    "    texto_limpio = ' '.join(texto_sin_puntuacion.split())\n",
    "    \n",
    "    # 5. Convertir a mayúsculas\n",
    "    return texto_limpio.upper()"
   ]
  },
  {
   "cell_type": "code",
   "execution_count": null,
   "id": "6e75ada8",
   "metadata": {},
   "outputs": [],
   "source": [
    "\n",
    "df = utils.read_iceberg_table(spark,db_name,table_name)\n",
    "\n",
    "# convert each column to normalized type\n",
    "df = (\n",
    "    df\n",
    "    .replace(float('nan'),None)\n",
    "    .select(\n",
    "        col(\"AÑO\").alias(\"año\"),\n",
    "        col(\"MES\").alias(\"mes\"),\n",
    "        normalize_text(col(\"PUNTO_TURISTICO\")).alias(\"puntoTuristico\"),\n",
    "        normalize_text(col(\"LUGAR_RESIDENCIA\")).alias(\"lugarResidencia\"),\n",
    "        normalize_text(col(\"PROVINCIA\")).alias(\"provincia\"),\n",
    "        col(\"VIAJEROS\").alias(\"viajeros\").cast(IntegerType()),\n",
    "        col(\"PERNOCTACIONES\").alias(\"pernoctaciones\").cast(IntegerType()),\n",
    "        col(\"ESTANCIA_MEDIA\").alias(\"estanciaMedia\").cast(DoubleType()),\n",
    "        col(\"ESTABLECIMIENTOS_ESTIMADOS\").alias(\"establecimientosEstimados\").cast(IntegerType()),\n",
    "        col(\"HABITACIONES_ESTIMADAS\").alias(\"habitacionesEstimadas\").cast(IntegerType()),\n",
    "        col(\"PLAZAS_ESTIMADAS\").alias(\"plazasEstimadas\").cast(IntegerType()),\n",
    "        col(\"GRADO_OCUPA_PLAZAS\").alias(\"gradoOcupaPlazas\").cast(DoubleType()),\n",
    "        col(\"GRADO_OCUPA_PLAZAS_FIN_SEMANA\").alias(\"gradoOcupaPlazasFinSemana\").cast(DoubleType()),\n",
    "        col(\"GRADO_OCUPA_POR_HABITACIONES\").alias(\"gradoOcupaPorHabitaciones\").cast(DoubleType()),\n",
    "        col(\"PERSONAL_EMPLEADO\").alias(\"personalEmpleado\").cast(IntegerType())\n",
    "    )\n",
    ")\n",
    "\n",
    "# Filter out rows where all the mesures are null\n",
    "\n",
    "condition = ~((col(\"viajeros\").isNull()) & \n",
    "              (col(\"pernoctaciones\").isNull()) & \n",
    "              (col(\"estanciaMedia\").isNull()) & \n",
    "              (col(\"establecimientosEstimados\").isNull()) & \n",
    "              (col(\"habitacionesEstimadas\").isNull()) &\n",
    "              (col(\"plazasEstimadas\").isNull()) & \n",
    "              (col(\"gradoOcupaPlazas\").isNull()) & \n",
    "              (col(\"gradoOcupaPlazasFinSemana\").isNull()) & \n",
    "              (col(\"gradoOcupaPorHabitaciones\").isNull()) & \n",
    "              (col(\"personalEmpleado\").isNull())\n",
    "              )\n",
    "\n",
    "df = df.filter(condition=condition)\n",
    "\n",
    "# Filter out also all the rows where the column viajeros < 0\n",
    "\n",
    "df = df.filter(col(\"viajeros\") < 0)"
   ]
  },
  {
   "cell_type": "code",
   "execution_count": null,
   "id": "ad216467",
   "metadata": {},
   "outputs": [],
   "source": [
    "utils.overwrite_iceberg_table(spark,df,db_name,table_name)"
   ]
  },
  {
   "cell_type": "code",
   "execution_count": 3,
   "id": "513b93d0",
   "metadata": {},
   "outputs": [
    {
     "name": "stdout",
     "output_type": "stream",
     "text": [
      "+----+---+----------------+--------------------+--------------------+--------+--------------+--------------+--------------------------+----------------------+----------------+------------------+-----------------------------+----------------------------+-----------------+\n",
      "| AÑO|MES| PUNTO_TURISTICO|    LUGAR_RESIDENCIA|           PROVINCIA|VIAJEROS|PERNOCTACIONES|ESTANCIA_MEDIA|ESTABLECIMIENTOS_ESTIMADOS|HABITACIONES_ESTIMADAS|PLAZAS_ESTIMADAS|GRADO_OCUPA_PLAZAS|GRADO_OCUPA_PLAZAS_FIN_SEMANA|GRADO_OCUPA_POR_HABITACIONES|PERSONAL_EMPLEADO|\n",
      "+----+---+----------------+--------------------+--------------------+--------+--------------+--------------+--------------------------+----------------------+----------------+------------------+-----------------------------+----------------------------+-----------------+\n",
      "|2012|  1|           Adeje|Residentes en España|Santa Cruz de Ten...| 11779.0|       73680.0|          6.26|                       NaN|                   NaN|             NaN|               NaN|                          NaN|                         NaN|              NaN|\n",
      "|2012|  1|           Adeje|Residentes en el ...|Santa Cruz de Ten...| 88518.0|      799090.0|          9.03|                       NaN|                   NaN|             NaN|               NaN|                          NaN|                         NaN|              NaN|\n",
      "|2012|  1|           Adeje|               Total|Santa Cruz de Ten...|100297.0|      872770.0|           8.7|                      54.0|                   NaN|         34394.0|             80.31|                         78.9|                       89.63|           6617.0|\n",
      "|2012|  1|        Albacete|Residentes en España|            Albacete|  8449.0|       11883.0|          1.41|                       NaN|                   NaN|             NaN|               NaN|                          NaN|                         NaN|              NaN|\n",
      "|2012|  1|        Albacete|Residentes en el ...|            Albacete|   884.0|        1673.0|          1.89|                       NaN|                   NaN|             NaN|               NaN|                          NaN|                         NaN|              NaN|\n",
      "|2012|  1|        Albacete|               Total|            Albacete|  9333.0|       13556.0|          1.45|                      23.0|                   NaN|          2457.0|             17.79|                        17.75|                       26.14|            260.0|\n",
      "|2012|  1|      Albarracín|Residentes en España|              Teruel|  1310.0|        2134.0|          1.63|                       NaN|                   NaN|             NaN|               NaN|                          NaN|                         NaN|              NaN|\n",
      "|2012|  1|      Albarracín|Residentes en el ...|              Teruel|    84.0|          95.0|          1.13|                       NaN|                   NaN|             NaN|               NaN|                          NaN|                         NaN|              NaN|\n",
      "|2012|  1|      Albarracín|               Total|              Teruel|  1394.0|        2229.0|           1.6|                      21.0|                   NaN|           615.0|             11.66|                        24.64|                       12.65|             39.0|\n",
      "|2012|  1|       Algeciras|Residentes en España|               Cádiz|  5476.0|        7616.0|          1.39|                       NaN|                   NaN|             NaN|               NaN|                          NaN|                         NaN|              NaN|\n",
      "|2012|  1|       Algeciras|Residentes en el ...|               Cádiz|  3289.0|        5243.0|          1.59|                       NaN|                   NaN|             NaN|               NaN|                          NaN|                         NaN|              NaN|\n",
      "|2012|  1|       Algeciras|               Total|               Cádiz|  8765.0|       12859.0|          1.47|                      30.0|                   NaN|          2157.0|             19.22|                        17.65|                       25.93|            160.0|\n",
      "|2012|  1|Alicante/Alacant|Residentes en España|            Alicante| 17835.0|       32583.0|          1.83|                       NaN|                   NaN|             NaN|               NaN|                          NaN|                         NaN|              NaN|\n",
      "|2012|  1|Alicante/Alacant|Residentes en el ...|            Alicante| 11249.0|       29417.0|          2.62|                       NaN|                   NaN|             NaN|               NaN|                          NaN|                         NaN|              NaN|\n",
      "|2012|  1|Alicante/Alacant|               Total|            Alicante| 29084.0|       62000.0|          2.13|                      60.0|                   NaN|          7896.0|             25.25|                        25.14|                       30.75|            687.0|\n",
      "|2012|  1|         Almería|Residentes en España|             Almería| 11149.0|       16728.0|           1.5|                       NaN|                   NaN|             NaN|               NaN|                          NaN|                         NaN|              NaN|\n",
      "|2012|  1|         Almería|Residentes en el ...|             Almería|  2431.0|        5467.0|          2.25|                       NaN|                   NaN|             NaN|               NaN|                          NaN|                         NaN|              NaN|\n",
      "|2012|  1|         Almería|               Total|             Almería| 13580.0|       22195.0|          1.63|                      22.0|                   NaN|          2601.0|             27.45|                        31.12|                       36.14|            292.0|\n",
      "|2012|  1|       Antequera|Residentes en España|              Málaga|     NaN|           NaN|           NaN|                       NaN|                   NaN|             NaN|               NaN|                          NaN|                         NaN|              NaN|\n",
      "|2012|  1|       Antequera|Residentes en el ...|              Málaga|     NaN|           NaN|           NaN|                       NaN|                   NaN|             NaN|               NaN|                          NaN|                         NaN|              NaN|\n",
      "+----+---+----------------+--------------------+--------------------+--------+--------------+--------------+--------------------------+----------------------+----------------+------------------+-----------------------------+----------------------------+-----------------+\n",
      "only showing top 20 rows\n",
      "\n"
     ]
    }
   ],
   "source": [
    "df = utils.read_iceberg_table(spark,\"local_db\",\"hoteles_punto_turistico\")\n",
    "\n",
    "df.show()"
   ]
  }
 ],
 "metadata": {
  "kernelspec": {
   "display_name": "TravelMind-69GU69Sq",
   "language": "python",
   "name": "python3"
  },
  "language_info": {
   "codemirror_mode": {
    "name": "ipython",
    "version": 3
   },
   "file_extension": ".py",
   "mimetype": "text/x-python",
   "name": "python",
   "nbconvert_exporter": "python",
   "pygments_lexer": "ipython3",
   "version": "3.10.11"
  }
 },
 "nbformat": 4,
 "nbformat_minor": 5
}
