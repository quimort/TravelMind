{
 "cells": [
  {
   "cell_type": "code",
   "execution_count": 1,
   "id": "738b8ff5",
   "metadata": {},
   "outputs": [],
   "source": [
    "from pyspark.sql import SparkSession,DataFrame\n",
    "from pyspark.sql.functions import *\n",
    "from pyspark.sql.types import *\n",
    "import unicodedata\n",
    "import re\n",
    "import utils as utils"
   ]
  },
  {
   "cell_type": "code",
   "execution_count": 2,
   "id": "098ce401",
   "metadata": {},
   "outputs": [],
   "source": [
    "source_db = \"landing\"\n",
    "source_table = \"hoteles_punto_turistico\"\n",
    "db_name = \"trusted\"\n",
    "table_name = \"f_ocupacion_hotelera\""
   ]
  },
  {
   "cell_type": "code",
   "execution_count": 3,
   "id": "fcaf24e2",
   "metadata": {},
   "outputs": [],
   "source": [
    "spark = utils.create_context()"
   ]
  },
  {
   "cell_type": "code",
   "execution_count": 4,
   "id": "912623f3",
   "metadata": {},
   "outputs": [],
   "source": [
    "@udf(StringType())\n",
    "def normalize_text(text:str):\n",
    "\n",
    "    if text is None:\n",
    "        return \"\"\n",
    "    \n",
    "    # 1. Normalizar (separar letras de tildes)\n",
    "    texto_normalizado = unicodedata.normalize('NFKD', text)\n",
    "    \n",
    "    # 2. Eliminar acentos (caracteres \"combining\")\n",
    "    texto_sin_acentos = ''.join(\n",
    "        c for c in texto_normalizado if not unicodedata.combining(c)\n",
    "    )\n",
    "    \n",
    "    # 3. Eliminar puntuación (todo lo que no sea letra, número o espacio)\n",
    "    texto_sin_puntuacion = re.sub(r'[^A-Za-z0-9\\s]', '', texto_sin_acentos)\n",
    "    \n",
    "    # 4. Eliminar espacios extra\n",
    "    texto_limpio = ' '.join(texto_sin_puntuacion.split())\n",
    "    \n",
    "    # 5. Convertir a mayúsculas\n",
    "    return texto_limpio.upper()"
   ]
  },
  {
   "cell_type": "code",
   "execution_count": 5,
   "id": "6e75ada8",
   "metadata": {},
   "outputs": [],
   "source": [
    "\n",
    "df = utils.read_iceberg_table(spark,source_db,source_table)\n",
    "\n",
    "# convert each column to normalized type\n",
    "df = (\n",
    "    df\n",
    "    .replace(float('nan'),None)\n",
    "    .select(\n",
    "        col(\"AÑO\").alias(\"año\"),\n",
    "        col(\"MES\").alias(\"mes\"),\n",
    "        normalize_text(col(\"PUNTO_TURISTICO\")).alias(\"puntoTuristico\"),\n",
    "        normalize_text(col(\"LUGAR_RESIDENCIA\")).alias(\"lugarResidencia\"),\n",
    "        normalize_text(col(\"PROVINCIA\")).alias(\"provincia\"),\n",
    "        col(\"VIAJEROS\").alias(\"viajeros\").cast(IntegerType()),\n",
    "        col(\"PERNOCTACIONES\").alias(\"pernoctaciones\").cast(IntegerType()),\n",
    "        col(\"ESTANCIA_MEDIA\").alias(\"estanciaMedia\").cast(DoubleType()),\n",
    "        col(\"ESTABLECIMIENTOS_ESTIMADOS\").alias(\"establecimientosEstimados\").cast(IntegerType()),\n",
    "        col(\"HABITACIONES_ESTIMADAS\").alias(\"habitacionesEstimadas\").cast(IntegerType()),\n",
    "        col(\"PLAZAS_ESTIMADAS\").alias(\"plazasEstimadas\").cast(IntegerType()),\n",
    "        col(\"GRADO_OCUPA_PLAZAS\").alias(\"gradoOcupaPlazas\").cast(DoubleType()),\n",
    "        col(\"GRADO_OCUPA_PLAZAS_FIN_SEMANA\").alias(\"gradoOcupaPlazasFinSemana\").cast(DoubleType()),\n",
    "        col(\"GRADO_OCUPA_POR_HABITACIONES\").alias(\"gradoOcupaPorHabitaciones\").cast(DoubleType()),\n",
    "        col(\"PERSONAL_EMPLEADO\").alias(\"personalEmpleado\").cast(IntegerType())\n",
    "    )\n",
    ")\n",
    "\n",
    "# Filter out rows where all the mesures are null\n",
    "\n",
    "\n",
    "\n",
    "condition = ~((col(\"viajeros\").isNull()) & \n",
    "              (col(\"pernoctaciones\").isNull()) & \n",
    "              (col(\"estanciaMedia\").isNull()) & \n",
    "              (col(\"establecimientosEstimados\").isNull()) & \n",
    "              (col(\"habitacionesEstimadas\").isNull()) &\n",
    "              (col(\"plazasEstimadas\").isNull()) & \n",
    "              (col(\"gradoOcupaPlazas\").isNull()) & \n",
    "              (col(\"gradoOcupaPlazasFinSemana\").isNull()) & \n",
    "              (col(\"gradoOcupaPorHabitaciones\").isNull()) & \n",
    "              (col(\"personalEmpleado\").isNull())\n",
    "              )\n",
    "\n",
    "df = df.filter(condition=condition)\n",
    "\n",
    "# Filter out also all the rows where the column viajeros < 0 \n",
    "\n",
    "df = df.filter(col(\"viajeros\") > 0)"
   ]
  },
  {
   "cell_type": "code",
   "execution_count": 6,
   "id": "ad216467",
   "metadata": {},
   "outputs": [],
   "source": [
    "utils.overwrite_iceberg_table(spark,df,db_name,table_name)"
   ]
  }
 ],
 "metadata": {
  "kernelspec": {
   "display_name": "TravelMind-69GU69Sq",
   "language": "python",
   "name": "python3"
  },
  "language_info": {
   "codemirror_mode": {
    "name": "ipython",
    "version": 3
   },
   "file_extension": ".py",
   "mimetype": "text/x-python",
   "name": "python",
   "nbconvert_exporter": "python",
   "pygments_lexer": "ipython3",
   "version": "3.10.11"
  }
 },
 "nbformat": 4,
 "nbformat_minor": 5
}
