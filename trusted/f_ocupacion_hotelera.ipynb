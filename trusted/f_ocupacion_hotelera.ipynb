{
 "cells": [
  {
   "cell_type": "code",
   "execution_count": 1,
   "id": "738b8ff5",
   "metadata": {},
   "outputs": [],
   "source": [
    "from pyspark.sql import SparkSession,DataFrame\n",
    "from pyspark.sql.functions import *\n",
    "from pyspark.sql.types import *\n",
    "import unicodedata\n",
    "import re\n",
    "import utils as utils"
   ]
  },
  {
   "cell_type": "code",
   "execution_count": 8,
   "id": "098ce401",
   "metadata": {},
   "outputs": [],
   "source": [
    "source_db = \"landing\"\n",
    "source_table = \"hoteles_punto_turistico\"\n",
    "db_name = \"trusted\"\n",
    "table_name = \"f_ocupacion_hotelera\""
   ]
  },
  {
   "cell_type": "code",
   "execution_count": 3,
   "id": "fcaf24e2",
   "metadata": {},
   "outputs": [],
   "source": [
    "spark = utils.create_context()"
   ]
  },
  {
   "cell_type": "code",
   "execution_count": 4,
   "id": "912623f3",
   "metadata": {},
   "outputs": [],
   "source": [
    "@udf(StringType())\n",
    "def normalize_text(text:str):\n",
    "\n",
    "    if text is None:\n",
    "        return \"\"\n",
    "    \n",
    "    # 1. Normalizar (separar letras de tildes)\n",
    "    texto_normalizado = unicodedata.normalize('NFKD', text)\n",
    "    \n",
    "    # 2. Eliminar acentos (caracteres \"combining\")\n",
    "    texto_sin_acentos = ''.join(\n",
    "        c for c in texto_normalizado if not unicodedata.combining(c)\n",
    "    )\n",
    "    \n",
    "    # 3. Eliminar puntuación (todo lo que no sea letra, número o espacio)\n",
    "    texto_sin_puntuacion = re.sub(r'[^A-Za-z0-9\\s]', '', texto_sin_acentos)\n",
    "    \n",
    "    # 4. Eliminar espacios extra\n",
    "    texto_limpio = ' '.join(texto_sin_puntuacion.split())\n",
    "    \n",
    "    # 5. Convertir a mayúsculas\n",
    "    return texto_limpio.upper()"
   ]
  },
  {
   "cell_type": "code",
   "execution_count": null,
   "id": "6e75ada8",
   "metadata": {},
   "outputs": [
    {
     "name": "stdout",
     "output_type": "stream",
     "text": [
      "+----+---+--------------------+--------------------+--------------------+--------+--------------+-------------+-------------------------+---------------------+---------------+----------------+-------------------------+-------------------------+----------------+\n",
      "| año|mes|      puntoTuristico|     lugarResidencia|           provincia|viajeros|pernoctaciones|estanciaMedia|establecimientosEstimados|habitacionesEstimadas|plazasEstimadas|gradoOcupaPlazas|gradoOcupaPlazasFinSemana|gradoOcupaPorHabitaciones|personalEmpleado|\n",
      "+----+---+--------------------+--------------------+--------------------+--------+--------------+-------------+-------------------------+---------------------+---------------+----------------+-------------------------+-------------------------+----------------+\n",
      "|2012|  1|               ADEJE|RESIDENTES EN ESPANA|SANTA CRUZ DE TEN...|   11779|         73680|         6.26|                     NULL|                 NULL|           NULL|            NULL|                     NULL|                     NULL|            NULL|\n",
      "|2012|  1|               ADEJE|RESIDENTES EN EL ...|SANTA CRUZ DE TEN...|   88518|        799090|         9.03|                     NULL|                 NULL|           NULL|            NULL|                     NULL|                     NULL|            NULL|\n",
      "|2012|  1|               ADEJE|               TOTAL|SANTA CRUZ DE TEN...|  100297|        872770|          8.7|                       54|                 NULL|          34394|           80.31|                     78.9|                    89.63|            6617|\n",
      "|2012|  1|            ALBACETE|RESIDENTES EN ESPANA|            ALBACETE|    8449|         11883|         1.41|                     NULL|                 NULL|           NULL|            NULL|                     NULL|                     NULL|            NULL|\n",
      "|2012|  1|            ALBACETE|RESIDENTES EN EL ...|            ALBACETE|     884|          1673|         1.89|                     NULL|                 NULL|           NULL|            NULL|                     NULL|                     NULL|            NULL|\n",
      "|2012|  1|            ALBACETE|               TOTAL|            ALBACETE|    9333|         13556|         1.45|                       23|                 NULL|           2457|           17.79|                    17.75|                    26.14|             260|\n",
      "|2012|  1|          ALBARRACIN|RESIDENTES EN ESPANA|              TERUEL|    1310|          2134|         1.63|                     NULL|                 NULL|           NULL|            NULL|                     NULL|                     NULL|            NULL|\n",
      "|2012|  1|          ALBARRACIN|RESIDENTES EN EL ...|              TERUEL|      84|            95|         1.13|                     NULL|                 NULL|           NULL|            NULL|                     NULL|                     NULL|            NULL|\n",
      "|2012|  1|          ALBARRACIN|               TOTAL|              TERUEL|    1394|          2229|          1.6|                       21|                 NULL|            615|           11.66|                    24.64|                    12.65|              39|\n",
      "|2012|  1|           ALGECIRAS|RESIDENTES EN ESPANA|               CADIZ|    5476|          7616|         1.39|                     NULL|                 NULL|           NULL|            NULL|                     NULL|                     NULL|            NULL|\n",
      "|2012|  1|           ALGECIRAS|RESIDENTES EN EL ...|               CADIZ|    3289|          5243|         1.59|                     NULL|                 NULL|           NULL|            NULL|                     NULL|                     NULL|            NULL|\n",
      "|2012|  1|           ALGECIRAS|               TOTAL|               CADIZ|    8765|         12859|         1.47|                       30|                 NULL|           2157|           19.22|                    17.65|                    25.93|             160|\n",
      "|2012|  1|     ALICANTEALACANT|RESIDENTES EN ESPANA|            ALICANTE|   17835|         32583|         1.83|                     NULL|                 NULL|           NULL|            NULL|                     NULL|                     NULL|            NULL|\n",
      "|2012|  1|     ALICANTEALACANT|RESIDENTES EN EL ...|            ALICANTE|   11249|         29417|         2.62|                     NULL|                 NULL|           NULL|            NULL|                     NULL|                     NULL|            NULL|\n",
      "|2012|  1|     ALICANTEALACANT|               TOTAL|            ALICANTE|   29084|         62000|         2.13|                       60|                 NULL|           7896|           25.25|                    25.14|                    30.75|             687|\n",
      "|2012|  1|             ALMERIA|RESIDENTES EN ESPANA|             ALMERIA|   11149|         16728|          1.5|                     NULL|                 NULL|           NULL|            NULL|                     NULL|                     NULL|            NULL|\n",
      "|2012|  1|             ALMERIA|RESIDENTES EN EL ...|             ALMERIA|    2431|          5467|         2.25|                     NULL|                 NULL|           NULL|            NULL|                     NULL|                     NULL|            NULL|\n",
      "|2012|  1|             ALMERIA|               TOTAL|             ALMERIA|   13580|         22195|         1.63|                       22|                 NULL|           2601|           27.45|                    31.12|                    36.14|             292|\n",
      "|2012|  1|ARCOS DE LA FRONTERA|RESIDENTES EN ESPANA|               CADIZ|    1017|          1546|         1.52|                     NULL|                 NULL|           NULL|            NULL|                     NULL|                     NULL|            NULL|\n",
      "|2012|  1|ARCOS DE LA FRONTERA|RESIDENTES EN EL ...|               CADIZ|     451|           918|         2.04|                     NULL|                 NULL|           NULL|            NULL|                     NULL|                     NULL|            NULL|\n",
      "+----+---+--------------------+--------------------+--------------------+--------+--------------+-------------+-------------------------+---------------------+---------------+----------------+-------------------------+-------------------------+----------------+\n",
      "only showing top 20 rows\n",
      "\n"
     ]
    }
   ],
   "source": [
    "\n",
    "df = utils.read_iceberg_table(spark,source_db,source_table)\n",
    "\n",
    "# convert each column to normalized type\n",
    "df = (\n",
    "    df\n",
    "    .replace(float('nan'),None)\n",
    "    .select(\n",
    "        col(\"AÑO\").alias(\"año\"),\n",
    "        col(\"MES\").alias(\"mes\"),\n",
    "        normalize_text(col(\"PUNTO_TURISTICO\")).alias(\"puntoTuristico\"),\n",
    "        normalize_text(col(\"LUGAR_RESIDENCIA\")).alias(\"lugarResidencia\"),\n",
    "        normalize_text(col(\"PROVINCIA\")).alias(\"provincia\"),\n",
    "        col(\"VIAJEROS\").alias(\"viajeros\").cast(IntegerType()),\n",
    "        col(\"PERNOCTACIONES\").alias(\"pernoctaciones\").cast(IntegerType()),\n",
    "        col(\"ESTANCIA_MEDIA\").alias(\"estanciaMedia\").cast(DoubleType()),\n",
    "        col(\"ESTABLECIMIENTOS_ESTIMADOS\").alias(\"establecimientosEstimados\").cast(IntegerType()),\n",
    "        col(\"HABITACIONES_ESTIMADAS\").alias(\"habitacionesEstimadas\").cast(IntegerType()),\n",
    "        col(\"PLAZAS_ESTIMADAS\").alias(\"plazasEstimadas\").cast(IntegerType()),\n",
    "        col(\"GRADO_OCUPA_PLAZAS\").alias(\"gradoOcupaPlazas\").cast(DoubleType()),\n",
    "        col(\"GRADO_OCUPA_PLAZAS_FIN_SEMANA\").alias(\"gradoOcupaPlazasFinSemana\").cast(DoubleType()),\n",
    "        col(\"GRADO_OCUPA_POR_HABITACIONES\").alias(\"gradoOcupaPorHabitaciones\").cast(DoubleType()),\n",
    "        col(\"PERSONAL_EMPLEADO\").alias(\"personalEmpleado\").cast(IntegerType())\n",
    "    )\n",
    ")\n",
    "\n",
    "# Filter out rows where all the mesures are null\n",
    "\n",
    "\n",
    "\n",
    "condition = ~((col(\"viajeros\").isNull()) & \n",
    "              (col(\"pernoctaciones\").isNull()) & \n",
    "              (col(\"estanciaMedia\").isNull()) & \n",
    "              (col(\"establecimientosEstimados\").isNull()) & \n",
    "              (col(\"habitacionesEstimadas\").isNull()) &\n",
    "              (col(\"plazasEstimadas\").isNull()) & \n",
    "              (col(\"gradoOcupaPlazas\").isNull()) & \n",
    "              (col(\"gradoOcupaPlazasFinSemana\").isNull()) & \n",
    "              (col(\"gradoOcupaPorHabitaciones\").isNull()) & \n",
    "              (col(\"personalEmpleado\").isNull())\n",
    "              )\n",
    "\n",
    "df = df.filter(condition=condition)\n",
    "\n",
    "# Filter out also all the rows where the column viajeros < 0 \n",
    "\n",
    "df = df.filter(col(\"viajeros\") > 0)"
   ]
  },
  {
   "cell_type": "code",
   "execution_count": 16,
   "id": "ad216467",
   "metadata": {},
   "outputs": [],
   "source": [
    "utils.overwrite_iceberg_table(spark,df,db_name,table_name)"
   ]
  }
 ],
 "metadata": {
  "kernelspec": {
   "display_name": "TravelMind-69GU69Sq",
   "language": "python",
   "name": "python3"
  },
  "language_info": {
   "codemirror_mode": {
    "name": "ipython",
    "version": 3
   },
   "file_extension": ".py",
   "mimetype": "text/x-python",
   "name": "python",
   "nbconvert_exporter": "python",
   "pygments_lexer": "ipython3",
   "version": "3.10.11"
  }
 },
 "nbformat": 4,
 "nbformat_minor": 5
}
