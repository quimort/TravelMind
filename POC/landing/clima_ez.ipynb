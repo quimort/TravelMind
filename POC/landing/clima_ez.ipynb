{
 "cells": [
  {
   "cell_type": "code",
   "execution_count": 2,
   "id": "08fca5f9",
   "metadata": {},
   "outputs": [],
   "source": [
    "import utils as utils\n",
    "from pyspark.sql.functions import col\n"
   ]
  },
  {
   "cell_type": "markdown",
   "id": "d77afb8c",
   "metadata": {},
   "source": []
  },
  {
   "cell_type": "code",
   "execution_count": 3,
   "id": "e473f9f5",
   "metadata": {},
   "outputs": [],
   "source": [
    "#crear context spark\n",
    "spark = utils.create_context()"
   ]
  },
  {
   "cell_type": "markdown",
   "id": "3f4ba876",
   "metadata": {},
   "source": [
    "EXPLOTAITION ZONE \n",
    "Seleccionamos filtramos datos que necesitamos"
   ]
  },
  {
   "cell_type": "code",
   "execution_count": 4,
   "id": "20cdbfc2",
   "metadata": {},
   "outputs": [
    {
     "name": "stdout",
     "output_type": "stream",
     "text": [
      "\n",
      "--- First 20 rows of df_final ---\n",
      "+----------------------+--------------------+--------------------------+-------------------+------------------------+------------------------------+------+------------------+------------------+-------------------+-------------------+-----------------------+-----------------------+\n",
      "|municipio_codigo_aemet|nombre_municipio_ine|fecha_descarga_utc        |prediccion_fecha   |prob_precipitacion_00_24|estado_cielo_00_24_descripcion|uv_max|temperatura_maxima|temperatura_minima|sens_termica_maxima|sens_termica_minima|humedad_relativa_maxima|humedad_relativa_minima|\n",
      "+----------------------+--------------------+--------------------------+-------------------+------------------------+------------------------------+------+------------------+------------------+-------------------+-------------------+-----------------------+-----------------------+\n",
      "|08019                 |Barcelona           |2025-06-25T21:38:20.304517|2025-06-25T00:00:00|0                       |Desconocido                   |9     |31                |23                |31                 |23                 |80                     |55                     |\n",
      "|08019                 |Barcelona           |2025-06-25T21:38:20.304517|2025-06-26T00:00:00|5                       |Despejado                     |9     |29                |24                |30                 |24                 |80                     |40                     |\n",
      "|08019                 |Barcelona           |2025-06-25T21:38:20.304517|2025-06-27T00:00:00|0                       |Despejado                     |9     |29                |23                |30                 |23                 |85                     |40                     |\n",
      "|08019                 |Barcelona           |2025-06-25T21:38:20.304517|2025-06-28T00:00:00|0                       |Despejado                     |10    |29                |23                |29                 |23                 |85                     |55                     |\n",
      "|08019                 |Barcelona           |2025-06-25T21:38:20.304517|2025-06-29T00:00:00|-9999                   |Desconocido                   |10    |31                |24                |31                 |24                 |70                     |45                     |\n",
      "|08019                 |Barcelona           |2025-06-25T21:38:20.304517|2025-06-30T00:00:00|-9999                   |Desconocido                   |-9999 |31                |25                |31                 |25                 |60                     |45                     |\n",
      "|08019                 |Barcelona           |2025-06-25T21:38:20.304517|2025-07-01T00:00:00|-9999                   |Desconocido                   |-9999 |30                |25                |30                 |25                 |75                     |55                     |\n",
      "+----------------------+--------------------+--------------------------+-------------------+------------------------+------------------------------+------+------------------+------------------+-------------------+-------------------+-----------------------+-----------------------+\n",
      "\n"
     ]
    }
   ],
   "source": [
    "#cargar el DataFrame desde el archivodesde iceberg\n",
    "df_imputed = spark.read.format(\"iceberg\").load(\"spark_catalog.local_db.aemet_processed\")\n",
    "# Filtrar las filas para el municipio de Barcelona y seleccionar las columnas deseadas\n",
    "df_final = (\n",
    "    df_imputed\n",
    "    .filter(col('nombre_municipio_ine') == 'Barcelona')#Municipio de Barcelona\n",
    "    # Seleccionar las columnas relevantes para el resultado final\n",
    "    .select(\n",
    "        'municipio_codigo_aemet', 'nombre_municipio_ine', 'fecha_descarga_utc',\n",
    "        'prediccion_fecha', 'prob_precipitacion_00_24', 'estado_cielo_00_24_descripcion',\n",
    "        'uv_max', 'temperatura_maxima', 'temperatura_minima',\n",
    "        'sens_termica_maxima', 'sens_termica_minima', 'humedad_relativa_maxima',\n",
    "        'humedad_relativa_minima'\n",
    "    )\n",
    ")\n",
    "print(\"\\n--- First 20 rows of df_final ---\")\n",
    "df_final.show(20, truncate=False)"
   ]
  }
 ],
 "metadata": {
  "kernelspec": {
   "display_name": "TravelMind-D0cwe-Yj",
   "language": "python",
   "name": "python3"
  },
  "language_info": {
   "codemirror_mode": {
    "name": "ipython",
    "version": 3
   },
   "file_extension": ".py",
   "mimetype": "text/x-python",
   "name": "python",
   "nbconvert_exporter": "python",
   "pygments_lexer": "ipython3",
   "version": "3.11.5"
  }
 },
 "nbformat": 4,
 "nbformat_minor": 5
}
