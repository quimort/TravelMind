{
 "cells": [
  {
   "cell_type": "code",
   "execution_count": null,
   "id": "81abfcbd",
   "metadata": {},
   "outputs": [],
   "source": [
    "import pyspark\n",
    "from pyspark.sql import SparkSession,DataFrame\n",
    "import requests\n",
    "import json \n",
    "from io import BytesIO\n",
    "import pandas as pd\n",
    "import os\n",
    "import sys\n",
    "import utils as utils"
   ]
  },
  {
   "cell_type": "code",
   "execution_count": null,
   "id": "350ffa9d",
   "metadata": {},
   "outputs": [],
   "source": [
    "path = \"https://dataestur.azure-api.net/API-SEGITTUR-v1/EOH_PUNT_TUR_DL\"\n",
    "filter = \"Punto%20tur%C3%ADstico=Todos&Lugar%20de%20residencia=Todos&Provincia=Todos\"\n",
    "\n",
    "df = utils.get_api_endpoint_excel(spark,path,filter)\n",
    "db_name = \"local_db\"\n",
    "table_name = \"hoteles_punto_turistico\"\n",
    "utils.overwrite_iceberg_table(spark,df,db_name,table_name)"
   ]
  }
 ],
 "metadata": {
  "language_info": {
   "name": "python"
  }
 },
 "nbformat": 4,
 "nbformat_minor": 5
}
