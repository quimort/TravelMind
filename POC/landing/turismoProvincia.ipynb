{
 "cells": [
  {
   "cell_type": "code",
   "execution_count": null,
   "id": "81abfcbd",
   "metadata": {},
   "outputs": [],
   "source": [
    "import pyspark\n",
    "from pyspark.sql import SparkSession,DataFrame\n",
    "import requests\n",
    "import json \n",
    "from io import BytesIO\n",
    "import pandas as pd\n",
    "import os\n",
    "import sys\n",
    "import utils as utils"
   ]
  },
  {
   "cell_type": "code",
   "execution_count": 2,
   "id": "9ceaa4d9",
   "metadata": {},
   "outputs": [
    {
     "name": "stdout",
     "output_type": "stream",
     "text": [
      "✅ Landing data written to Parquet at c:\\Users\\joaqu\\OneDrive\\Documents\\AAmaster_UPC\\TFM\\TravelMind\\POC\\landing\\data\\landing\\turismo_Provincia\n"
     ]
    }
   ],
   "source": [
    "#!/usr/bin/env python3\n",
    "import os\n",
    "import requests\n",
    "from io import StringIO\n",
    "\n",
    "import pandas as pd\n",
    "from pyspark.sql import SparkSession\n",
    "import os, sys\n",
    "\n",
    "# Tell Spark which Python to use for its workers & driver\n",
    "os.environ[\"PYSPARK_PYTHON\"]        = sys.executable\n",
    "os.environ[\"PYSPARK_DRIVER_PYTHON\"] = sys.executable\n",
    "\n",
    "def main():\n",
    "    # 1) Spark session (no Iceberg)\n",
    "    spark = (\n",
    "        SparkSession.builder\n",
    "            .appName(\"LandingZonePureSpark\")\n",
    "            .config(\"spark.driver.memory\", \"4g\")\n",
    "            .getOrCreate()\n",
    "    )\n",
    "\n",
    "    try:\n",
    "        # 2) API endpoint & query\n",
    "        path  = \"https://dataestur.azure-api.net/API-SEGITTUR-v1/TURISMO_INTERNO_PROV_CCAA_DL\"\n",
    "        query = \"CCAA%20origen=Todos&Provincia%20origen=Todos&CCAA%20destino=Todos&Provincia%20destino=Todos\"\n",
    "        resp  = requests.get(f\"{path}?{query}\")\n",
    "        resp.raise_for_status()\n",
    "\n",
    "        # 3) Parse into pandas to handle ; separator and , decimal\n",
    "        csv_text = resp.content.decode(\"latin-1\")\n",
    "        pdf = pd.read_csv(\n",
    "            StringIO(csv_text),\n",
    "            sep=\";\",\n",
    "            decimal=\",\",\n",
    "            encoding=\"latin-1\"\n",
    "        )\n",
    "\n",
    "        # 4) Convert to Spark DataFrame\n",
    "        df = spark.createDataFrame(pdf)\n",
    "\n",
    "        # 5) Write out as Parquet\n",
    "        out_dir = os.path.abspath(\"data/landing/turismo_Provincia\")\n",
    "        os.makedirs(out_dir, exist_ok=True)\n",
    "        df.write.mode(\"overwrite\").parquet(out_dir)\n",
    "\n",
    "        print(f\"✅ Landing data written to Parquet at {out_dir}\")\n",
    "\n",
    "    finally:\n",
    "        spark.stop()\n",
    "\n",
    "if __name__ == \"__main__\":\n",
    "    main()\n"
   ]
  },
  {
   "cell_type": "code",
   "execution_count": 9,
   "id": "350ffa9d",
   "metadata": {},
   "outputs": [
    {
     "name": "stderr",
     "output_type": "stream",
     "text": [
      "c:\\Users\\joaqu\\.virtualenvs\\TravelMind--WcSvJCM\\Lib\\site-packages\\pyspark\\sql\\catalog.py:748: FutureWarning: `dbName` has been deprecated since Spark 3.4 and might be removed in a future version. Use tableExists(`dbName.tableName`) instead.\n",
      "  warnings.warn(\n"
     ]
    }
   ],
   "source": [
    "path = \"https://dataestur.azure-api.net/API-SEGITTUR-v1/TURISMO_INTERNO_PROV_CCAA_DL\"\n",
    "filter = \"CCAA%20origen=Todos&Provincia%20origen=Todos&CCAA%20destino=Todos&Provincia%20destino=Todos\"\n",
    "# https://dataestur.azure-api.net/API-SEGITTUR-v1/TURISMO_INTERNO_PROV_CCAA_DL?CCAA%20origen=Todos&Provincia%20origen=Todos&CCAA%20destino=Todos&Provincia%20destino=Todos\n",
    "spark = utils.create_context()\n",
    "\n",
    "try:\n",
    "    db_name = \"landing\"\n",
    "    table_name = \"turismo_Provincia\"\n",
    "\n",
    "    if utils.check_table_exists(spark, db_name, table_name):\n",
    "        df = utils.get_api_endpoint_data(spark, path, filter)\n",
    "        utils.overwrite_iceberg_table(spark, df, db_name, table_name)\n",
    "\n",
    "    # Esta parte se ejecuta siempre, independientemente de si la tabla ya existía\n",
    "    df = utils.get_api_endpoint_data(spark, path, filter)\n",
    "    utils.overwrite_iceberg_table(spark, df, db_name, table_name)\n",
    "\n",
    "finally:\n",
    "    spark.stop()"
   ]
  }
 ],
 "metadata": {
  "kernelspec": {
   "display_name": "TravelMind--WcSvJCM",
   "language": "python",
   "name": "python3"
  },
  "language_info": {
   "codemirror_mode": {
    "name": "ipython",
    "version": 3
   },
   "file_extension": ".py",
   "mimetype": "text/x-python",
   "name": "python",
   "nbconvert_exporter": "python",
   "pygments_lexer": "ipython3",
   "version": "3.11.9"
  }
 },
 "nbformat": 4,
 "nbformat_minor": 5
}
