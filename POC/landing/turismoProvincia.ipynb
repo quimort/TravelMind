{
 "cells": [
  {
   "cell_type": "code",
   "execution_count": 1,
   "id": "81abfcbd",
   "metadata": {},
   "outputs": [],
   "source": [
    "import pyspark\n",
    "from pyspark.sql import SparkSession,DataFrame\n",
    "import requests\n",
    "import json \n",
    "from io import BytesIO\n",
    "import pandas as pd\n",
    "import os\n",
    "import sys\n",
    "import utils as utils"
   ]
  },
  {
   "cell_type": "code",
   "execution_count": 8,
   "id": "350ffa9d",
   "metadata": {},
   "outputs": [
    {
     "name": "stderr",
     "output_type": "stream",
     "text": [
      "c:\\Users\\joaqu\\.virtualenvs\\TravelMind--WcSvJCM\\Lib\\site-packages\\pyspark\\sql\\catalog.py:748: FutureWarning: `dbName` has been deprecated since Spark 3.4 and might be removed in a future version. Use tableExists(`dbName.tableName`) instead.\n",
      "  warnings.warn(\n"
     ]
    }
   ],
   "source": [
    "path = \"https://dataestur.azure-api.net/API-SEGITTUR-v1/TURISMO_INTERNO_PROV_CCAA_DL\"\n",
    "filter = \"CCAA%20origen=Todos&Provincia%20origen=Todos&CCAA%20destino=Todos&Provincia%20destino=Todos\"\n",
    "# https://dataestur.azure-api.net/API-SEGITTUR-v1/TURISMO_INTERNO_PROV_CCAA_DL?CCAA%20origen=Todos&Provincia%20origen=Todos&CCAA%20destino=Todos&Provincia%20destino=Todos\n",
    "spark = utils.create_context()\n",
    "db_name = \"landing\"\n",
    "table_name = \"turismo_Provincia\"\n",
    "\n",
    "\n",
    "if utils.check_table_exists(spark,db_name,table_name):\n",
    "\n",
    "\n",
    "    df = utils.get_api_endpoint_data(spark,path,filter)\n",
    "    utils.overwrite_iceberg_table(spark,df,db_name,table_name)\n",
    "    \n",
    "df = utils.get_api_endpoint_data(spark,path,filter)\n",
    "\n",
    "utils.overwrite_iceberg_table(spark,df,db_name,table_name)\n",
    "spark.stop()"
   ]
  }
 ],
 "metadata": {
  "kernelspec": {
   "display_name": "TravelMind--WcSvJCM",
   "language": "python",
   "name": "python3"
  },
  "language_info": {
   "codemirror_mode": {
    "name": "ipython",
    "version": 3
   },
   "file_extension": ".py",
   "mimetype": "text/x-python",
   "name": "python",
   "nbconvert_exporter": "python",
   "pygments_lexer": "ipython3",
   "version": "3.11.9"
  }
 },
 "nbformat": 4,
 "nbformat_minor": 5
}
