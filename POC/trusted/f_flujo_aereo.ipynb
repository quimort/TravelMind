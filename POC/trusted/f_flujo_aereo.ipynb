{
 "cells": [
  {
   "cell_type": "code",
   "execution_count": null,
   "id": "1847a889",
   "metadata": {},
   "outputs": [],
   "source": [
    "import pyspark\n",
    "from pyspark.sql import SparkSession,DataFrame\n",
    "from pyspark.sql.functions import *\n",
    "from pyspark.sql.types import *\n",
    "import requests\n",
    "import json \n",
    "from io import BytesIO\n",
    "import pandas as pd\n",
    "import os\n",
    "import sys\n",
    "import utils as utils"
   ]
  },
  {
   "cell_type": "code",
   "execution_count": null,
   "id": "b8df50ed",
   "metadata": {},
   "outputs": [],
   "source": [
    "source_db = \"landing\"\n",
    "source_table = \"aena\"\n",
    "db_name = \"trusted\"\n",
    "table_name = \"f_flujo_aereo\""
   ]
  },
  {
   "cell_type": "code",
   "execution_count": null,
   "id": "c980f974",
   "metadata": {},
   "outputs": [],
   "source": [
    "spark = utils.create_context()\n",
    "df = utils.read_iceberg_table(spark,db_name,table_name)\n",
    "\n",
    "# convert each column to normalized type\n",
    "df = df.select(\n",
    "    \n",
    ")"
   ]
  }
 ],
 "metadata": {
  "kernelspec": {
   "display_name": "TravelMind-qBbuPuBh",
   "language": "python",
   "name": "python3"
  },
  "language_info": {
   "codemirror_mode": {
    "name": "ipython",
    "version": 3
   },
   "file_extension": ".py",
   "mimetype": "text/x-python",
   "name": "python",
   "nbconvert_exporter": "python",
   "pygments_lexer": "ipython3",
   "version": "3.11.5"
  }
 },
 "nbformat": 4,
 "nbformat_minor": 5
}
