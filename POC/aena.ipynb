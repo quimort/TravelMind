{
 "cells": [
  {
   "cell_type": "code",
   "execution_count": 1,
   "id": "e49ebc91",
   "metadata": {},
   "outputs": [],
   "source": [
    "import pyspark\n",
    "from pyspark.sql import SparkSession,DataFrame\n",
    "import requests\n",
    "import json \n",
    "from io import BytesIO\n",
    "import pandas as pd\n",
    "import os\n",
    "import sys"
   ]
  },
  {
   "cell_type": "code",
   "execution_count": 2,
   "id": "b49862df",
   "metadata": {},
   "outputs": [],
   "source": [
    "def create_context() -> SparkSession:\n",
    "\n",
    "    # Usa el mismo intérprete que el kernel del notebook\n",
    "    os.environ[\"PYSPARK_PYTHON\"] = sys.executable\n",
    "    os.environ[\"PYSPARK_DRIVER_PYTHON\"] = sys.executable\n",
    "    spark = SparkSession.builder\\\n",
    "        .appName(\"IcebergWritedata\") \\\n",
    "        .config(\"spark.sql.catalog.spark_catalog\", \"org.apache.iceberg.spark.SparkSessionCatalog\") \\\n",
    "        .config(\"spark.sql.catalog.spark_catalog.type\", \"hadoop\") \\\n",
    "        .config(\"spark.sql.catalog.spark_catalog.warehouse\", \"../data/warehouse\") \\\n",
    "        .config(\"spark.sql.extensions\", \"org.apache.iceberg.spark.extensions.IcebergSparkSessionExtensions\") \\\n",
    "        .config(\"spark.jars.packages\", \"org.apache.iceberg:iceberg-spark-runtime-3.5_2.12:1.4.3\") \\\n",
    "        .getOrCreate()\n",
    "    return spark"
   ]
  },
  {
   "cell_type": "code",
   "execution_count": 3,
   "id": "230c0d90",
   "metadata": {},
   "outputs": [],
   "source": [
    "def get_api_endpoint_excel(spark:SparkSession,path:str,filter:str = None) -> DataFrame:\n",
    "\n",
    "    if filter:\n",
    "        response = requests.get(f\"{path}?{filter}\")\n",
    "    else:\n",
    "        response = requests.get(f\"{path}\")\n",
    "    if response.status_code == 200:\n",
    "        # Leer el archivo Excel con pandas desde memoria\n",
    "        excel_file = BytesIO(response.content)\n",
    "        df_pandas = pd.read_excel(excel_file)\n",
    "\n",
    "        # Convertir el DataFrame de pandas a Spark\n",
    "        df_spark = spark.createDataFrame(df_pandas)\n",
    "\n",
    "        # Mostrar los primeros registros\n",
    "        return df_spark\n",
    "    else:\n",
    "        print(f\"Error {response.status_code}: no se pudo obtener el archivo.\")\n"
   ]
  },
  {
   "cell_type": "code",
   "execution_count": 4,
   "id": "5306f85d",
   "metadata": {},
   "outputs": [
    {
     "name": "stdout",
     "output_type": "stream",
     "text": [
      "+----+---+--------------------+---------------------+\n",
      "| AÑO|MES|     AEROPUERTO_AENA|PASAJEROS_POR_DESTINO|\n",
      "+----+---+--------------------+---------------------+\n",
      "|2004|  1|JT Barcelona-El Prat|              1487280|\n",
      "|2004|  2|JT Barcelona-El Prat|              1681762|\n",
      "|2004|  3|JT Barcelona-El Prat|              1943771|\n",
      "|2004|  4|JT Barcelona-El Prat|              2030420|\n",
      "|2004|  5|JT Barcelona-El Prat|              2128796|\n",
      "|2004|  6|JT Barcelona-El Prat|              2203999|\n",
      "|2004|  7|JT Barcelona-El Prat|              2377152|\n",
      "|2004|  8|JT Barcelona-El Prat|              2503196|\n",
      "|2004|  9|JT Barcelona-El Prat|              2262870|\n",
      "|2004| 10|JT Barcelona-El Prat|              2186597|\n",
      "|2004| 11|JT Barcelona-El Prat|              1846926|\n",
      "|2004| 12|JT Barcelona-El Prat|              1711314|\n",
      "|2005|  1|JT Barcelona-El Prat|              1619040|\n",
      "|2005|  2|JT Barcelona-El Prat|              1766193|\n",
      "|2005|  3|JT Barcelona-El Prat|              2159888|\n",
      "|2005|  4|JT Barcelona-El Prat|              2196228|\n",
      "|2005|  5|JT Barcelona-El Prat|              2426081|\n",
      "|2005|  6|JT Barcelona-El Prat|              2440435|\n",
      "|2005|  7|JT Barcelona-El Prat|              2682723|\n",
      "|2005|  8|JT Barcelona-El Prat|              2784941|\n",
      "+----+---+--------------------+---------------------+\n",
      "only showing top 20 rows\n",
      "\n"
     ]
    }
   ],
   "source": [
    "path = \"https://dataestur.azure-api.net/API-SEGITTUR-v1/AENA_DESTINOS_DL\"\n",
    "filter = \"desde%20%28a%C3%B1o%29=2004&Aeropuerto%20AENA=JT%20Barcelona-El%20Prat\"\n",
    "\n",
    "spark = create_context()\n",
    "df = get_api_endpoint_excel(spark,path,filter)\n",
    "\n",
    "df.show()\n"
   ]
  },
  {
   "cell_type": "code",
   "execution_count": 5,
   "id": "46ba46f1",
   "metadata": {},
   "outputs": [],
   "source": [
    "spark.sql(\"CREATE DATABASE IF NOT EXISTS spark_catalog.local_db\")\n",
    "# Guardar tabla Iceberg\n",
    "df.writeTo(\"spark_catalog.local_db.aena_barcelona\").using(\"iceberg\").createOrReplace()"
   ]
  },
  {
   "cell_type": "code",
   "execution_count": 6,
   "id": "e13096eb",
   "metadata": {},
   "outputs": [],
   "source": [
    "path = \"https://dataestur.azure-api.net/API-SEGITTUR-v1/EOH_PUNT_TUR_DL\"\n",
    "filter = \"Punto%20tur%C3%ADstico=Todos&Lugar%20de%20residencia=Todos&Provincia=Todos\"\n",
    "\n",
    "df = get_api_endpoint_excel(spark,path,filter)"
   ]
  },
  {
   "cell_type": "code",
   "execution_count": 7,
   "id": "f6a76861",
   "metadata": {},
   "outputs": [],
   "source": [
    "# Guardar tabla Iceberg\n",
    "df.writeTo(\"spark_catalog.local_db.hoteles_punto_turistico\").using(\"iceberg\").createOrReplace()"
   ]
  }
 ],
 "metadata": {
  "kernelspec": {
   "display_name": "TravelMind-69GU69Sq",
   "language": "python",
   "name": "python3"
  },
  "language_info": {
   "codemirror_mode": {
    "name": "ipython",
    "version": 3
   },
   "file_extension": ".py",
   "mimetype": "text/x-python",
   "name": "python",
   "nbconvert_exporter": "python",
   "pygments_lexer": "ipython3",
   "version": "3.10.11"
  }
 },
 "nbformat": 4,
 "nbformat_minor": 5
}
