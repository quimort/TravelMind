{
 "cells": [
  {
   "cell_type": "code",
   "execution_count": 4,
   "id": "e49ebc91",
   "metadata": {},
   "outputs": [],
   "source": [
    "import pyspark\n",
    "import requests\n",
    "import json "
   ]
  },
  {
   "cell_type": "code",
   "execution_count": 7,
   "id": "230c0d90",
   "metadata": {},
   "outputs": [],
   "source": [
    "def get_api_endpoint(path:str,filter:str):\n",
    "\n",
    "    response = requests.get(f\"{path}?{filter}\")\n",
    "\n",
    "    if response.status_code == 200:\n",
    "        print(response.text)\n",
    "        return json.loads(response.text)\n",
    "    else:\n",
    "        return response.status_code\n"
   ]
  },
  {
   "cell_type": "code",
   "execution_count": 8,
   "id": "5306f85d",
   "metadata": {},
   "outputs": [
    {
     "name": "stdout",
     "output_type": "stream",
     "text": [
      "PK\u0003\u0004\u0014\u0000\u0000\u00000�Z\u0007AMb�\u0000\u0000\u0000�\u0000\u0000\u0000\u0010\u0000\u0000\u0000docProps/app.xmlM�=\u000b\u00021\u0010D��q��A�Bb@�R��\u000f{\u001b/�dC�B~�9��n\u001eo\u0018F�\n",
      "�M��<\u0004,���EG��8y��.b膈��x`�/�ֻ�/��W2$\u0011A0\u0019����n�5y���\u001dSeQ���Ί�=/\u0005�E�~�\\?�oB������x\u0015(\t��M}\u0002PK\u0003\u0004\u0014\u0000\u0000\u00000�Z�\\�#\u0010\u0006\u0000\u0000�'\u0000\u0000\u0013\u0000\u0000\u0000xl/theme/theme1.xml�Z[s�8\u0014~��xg�m\u000b�6���\u0013siv۴���N\u001f�\u0011X�lyd���G6\u0010˖\n",
      ";:�X�v|��ퟌ��t4m\u001a���x8��ҋp\u001c\u0004�Q���l��A\t��i�d��ڮ����SO��}��h��e�\u0001\u0013WA&�����l����>e��:\u001d2�n0\u001bX �o��NZ��T���jg?Vk���H���}�\u0005�I���2\n",
      "��O�î�ƫ�t�i&'��k��\u0016hBF��z\u0012\u0015��@� \u0000Xpv���\u0003�^)�u�\u001a�\u001d��A\\�X�9�\u0011���\u0004�i�\u0019�4Fr��\u0005\u000e\u00007��LP|�A����\\���)�P�ȁ�G�!�ܯ����ɤ3z�}:�k�i�\u0001����ϓ�s�䟧��MB�p�,\t��#[a�'n;\u0013r:\u001cgB|�����%2���\n",
      "\u0012�9~MH\u0013�+�����@�/$�J��i�#�t&��3\u001a�F�\u001bu�h�<z�\u0005��5\u0007�F��U�ܣ�X\u0015\u0001�\u0018�4�5,��x���<\u001d\u0013\u0012͔\u000b\u0006A���N<g\u001fV��]��䞌r#���X}�OGn#ש��\"הF$E��-��\u00118�I\n",
      "\u001c�\u001b\u001d\u0002g\u001b�F!�i��\u001e�$����\u0011+B>b\u00196\u001ar�\u0016��q��`Z\u0012��xNҴ\u0011�Y�5�>`��͑u�֑\u000e\u0011�^7B>b΋�\u0011�\u001e�8J���qX\u0004��^�I���f��~��3l,��G�\u0017J�\u000f&�?�24\u0007��Y\t��Vj���4>�\u001e2\n",
      "\u0005�\u001e>�zx\n",
      "7�ƼP��{\u0001���7«���9.}ϥ��=�ҷ7#}g�Ӌ[�Fn[���1��4.(cWr���T��)�9����h>�����$���Y-#\u0016�K��A$�����*�\t�d[%\t�T�e7�\u0012�B\u001bn�S�J��对(�<[�鯡t>,��<_��\u000b3C�rK궔��&8J���pN\u001e�\f;g<�\u001d�w�\u001d5��]v�#�0S�C�\u001aB�\u0003m���:8����\n",
      "�R�o����x\u001a�9�\u0004�}�Wm�������Q���<�\u001dǈ�!���C�y{_�g��P4\u0014ml�$,F�`���,\u0014�d`-�\u0007��Q\u0002�RU`1[�\u0003+��|L�E�p�\\_�ђ�ۦe�n�)w\u0019m\"R9�i�\u0013g���e��U\u001d�U[�j=�\u0015N��Y�ȟ\f\u0011N\u0016\u000b\u0012Hc�\u0017�J��\u0019S��+I�U8�E3�\u0012�\u0018����qNS�\u0012v�\u000f\u00022��9�ze1g���-\f\t,[�Y\u0012�M]��盜�z\"v��w�`��p�G\u000f�;�_�]C�~����n�;HL�y�\u0011\u0001tE\u0002#�\u001c\u0006\u0016\u00172�P\u0006\u0013\u0001͔�D�\u0002�d�\u001c���\u000b��\f�)\u0015έ>9E,��N^�%\u0012\u0014��\f\u0005!\u0017r���jw���,�m�T2d�\u0017�C��=3rC�T%��&\u000b���Tͻ\u001a�&`K�zn�-'��^�=�\u0017=F��\u001e��s�z��E��X�\u001e�2�9p�:�\u0003^�\u0013,C�~�}���\u0011�b���O�%�;�{� ���ۤ���\f|ԫZ�d+\u0011?K\u0007|\u001f�\u0006c�[�4_�\u0014b������1\fy�X�\f�f8߇E�\u001a3Ջ�9�\n",
      "4\u001c�\u0005^1��6��N\n",
      "��Ď�틿\u0001PK\u0003\u0004\u0014\u0000\u0000\u00000�Z`�93�\u0016\u0000\u0000��\u0000\u0000\u0018\u0000\u0000\u0000xl/worksheets/sheet1.xml���n\\Gr�_E��,���/$\u0001�� ���\u0005ɛ|4hk,\u0011�D����1�Ly��\u0010\u0016��nWu�\n",
      "-��G٧���'響���#0\u0004�tyw����߮��x��=}�����o��on�����*O��]�_�xv{������}����\u001f\u001e�?����W��\u0007����X�\u001a��_����������q������7�O�����\u000f}�i���������\u000f������_.���c�wW\u001fO��n>=�=����K��w����<��_�N_�ȟ����nn~=��/�?\n",
      "|g\u0017x���˿�\"o|���\u001f�{�����]��\u0018���1��c�\u000f\u0015�'��/�i��]�NY�\f|�[T����'�\\��<ζO����������կ�j�V���\u000eLm|T\u001bm�lY��N��6�\u0006��ZmzT�l�t9\n",
      "0\u0006[2[�cF�\u001a`\u0014\u0006XcP.sq\u001a`��d�.ǌ�5@޽��Py*\u0010�\u0001F�H��r̈^\u0003����_��c�H�nƍd�.ǌ�~�ɺ�V!)W�8�/��d�.ǌ�?޽�\u001a�y�_�\u001b�̟�\u0011������K�\u000e󴿸�?�~\u00183���x{�5$eΏ�������ä^\u0003���Mkn�;p\u001a`\u0014\u0006X�f�~8�^\u0003\u0014�!Ǯ\u0018`�\u0006\u0018�F2[���\u0006ȫC���D�Xd\u001a`\n",
      "�d�~�d�k��{.\u0010�Gsi\u001a`��d�.ǌ�5@޽�\n",
      "���|#Msd/|��n+��[�E�i��\u0000{�%w+\u0002ڽ\u0006Ȫ��^K�.�i�\u001d6�h�\u001a �\u001e\u0011{H��i�\u001d7�h�\u001a �\u001es�]{4Ч\u0001���lE@���X�X u-�ѧ����lE@���:O���H����F�\u0019\u0001�^�c�cȽF�1��o쯛\u0011���?�>\u0015�E;������u3\u0002ڽ\u0006��'\u0018v�<5��\u0000�0@��h�\u001a �\u000e�bQ��Nv���d+\u0002�ݛ�y�����\u0010�6�`��/8�i6�\u0001�\u0010��ܦ\u00016�H�\"����z\fqX�r�k��\u001an$[\u0011��?޽Ř@;���Z�H6#��k�}�9�r�k������\u0019\u0001m^���#Ԭ=\u001ao������\u0019\u0001m^\u0003\u0014��\u001fgk�y\u001a`\u0013R�\u0015\u0001m^\u0003\u0014�\u0003\u0014�>�M\u0003lu#ي�6�\u0001�����E���k\u001b�V\u0004����q\u0003lYuh\u0001*h��\u0001���l�<��\u0000yw\u0018sQSƌ2\n",
      "z��yB6Ǉ��m�C��zt3wl���\u0002�!\u001f�N��\u0011�����\u001e���Y{�\u0004�l�\u000fu��\f�~]gQ�0ޘ:Ƅl�\u000f\u001b��/8\"6�{�<W��v-�l�\u000f\u001b��/8r6�{�<W\u0000�Vm\u000f\u0010Pr�@�@���ʍ�\u001f\u001e�������\u0002����n+<\n",
      "�\u000f\u0000\u0019��\u0004�\u0012N\u00112�!��m%H�\u000f��\u0002r�\u00154ˤ\u0018\u0019��Y�b��\u0007�p\u0001g`�6�\u0002E��B��%\u0005?M�Տc�F�)\u0003P��\u0000�,t[�R�#e���g⛦�X���,t[�R�se8���\u0002�g\u0004@�2\u0002-��mEK�\u000f�a�c\u000f��[\u0007��\u0011|��n+_\n",
      "~�\f�\u001f3\"j\u001f<\u0003e��B�\u00192\u0005?g�5�pF\u0010)w�@H3�;�D3i\n",
      "nڌP\u0010[P�c@x3�;�D3n\n",
      "n�P\u0010�xo��5J]����p+s\n",
      "�\u0011�!֦Z&�π\u0000�,t[�Sp\u0003h����[04��2\u0005�f�ۊ��\u001bB��G��4�\u0011�`h@ph\u0016��\u001c*�I4�~�=\u0005�x\u0013�\u00140��n+�\n",
      "�\u0011\u0002Z렲@\t�\u0006\u0004�f��$��\u00016����m��\u0007���\u0003E��Ę�)6�~,\u0001ZWߗ�2\u0005�f��d��Q6�~l�B�(+\u0010���Qw�Ҭ�����\ts.ھQ D\u001b\u0010H��n+�\n",
      "��b/IC'\u0000�ڀ��,t[�Vp�mx��kH�(K�6 �6\u000b�f�\u0015�|\u001b�`\f�!h�u!Q���0��p\u00057�F(�-���V�s\u0003i�Ɍ���u#\u0014�K!j�B �\u001b\u0010�\u001b��4���\u0001w[&\u0017���f�\u0006\u0004�f��\n",
      "��\u001bz#�ҋ\u0016�\u0006��\u0001��Y�R��\u0006߈��[�0j@�7 �7\u000b�V�\u0015��\u001b^?\u0016h�^�\t�\u0006\u0004��;[�Wp\u0013px�\u0014RIM\u001b�\t\u0003\u0007\u0004\u0004g��\n",
      "���#���Tu\u0013˔���n3.�����d}s#�����\u001cu�qY7�G��\u0018��}��2%��ی˺�=�~\u001a\u0017𢁳�p{@�{��͸�\u001b�����z=�_`�v�͸������qO�?�!\u0004\u001f��n3.����9�Դ/%\u0005��\u0001��9��f\\�M����y\u0012cО\u0012\u0012�\u000fH��Q�\u001d�u�|x�3μ��x\u0013�\u000fH��Q�\u001d�uS}x�1\u0012bQ��\u0012�\u000fH��Q�\u001d�u�}@�}r�]�~qb�\u0002�\u0012\u0015�_p<�n�\u0014��\u0016�\u001a'$�\u001f\u0010���n3.������fP?;&�\u001f\u0010���n3.�\u0006���0nՂ�だ~@�~\u0016�͸�\u001b�#\u0004�^շ%1LA�Y�6òn�\u000f��\n",
      "�9\u0014��\u0001��Y�6��n�\u000f�\u000fi���\u0014�\u0004��\u0002�s��_ �\u0013t#x�V��#��\u0006\"\u001bv���,��?�>@��\u001e;$�\u001f\u0014ğ�n+(�n�\u000f��Rl�\u0016R$�\u001f\u0014���l3'�n�\u000foP\u0001�\u0006�G\u0002���1J���h�n�\u000fo\u0010S��$�\u001f\f\u001b��/8L&�&��\u0006c�\u0006�(�\u0000P\u0000P���\u000b���k��~\n",
      "V@\u0016ݤ\u001f^��a��\u0010�\u000f,�q?�~+)�gI#��N�\u0015�E7��O\u0018���HX?(X?\u000b�VB\u0016ݨ\u001fQ����r_����s�\n",
      "��B���E7�ׇx��=I@?(@?\u000b�V>\u0016ݠ\u001f!`�+��<�D\u0002�A\u0001�Y���\u0006\u0001Cu��'H@?(@?\u000b�V>\u0016ݠ\u001f!`L�Q�>\u0019$�\u001f\u0014���n3\u001f�nҏP0�)sP\u001e� !� �\u0012�|,�Q?B�y�\u0016�C��Aع%��Xt�~���}�:U\u0011�\u000f\n",
      "�\u000fJ�\u001c�����/=Ǫ\u001epb�����m�cэ����M}��c*$�\u001f\u0014���n���&\u0001�x\u0007mW \u0012�\u000f\n",
      "��B���E7�׏\u0019��V�7�L��Y���\u0006����ݺA��'�\u001f\u0014���n+\u001f�n�\u000f�?��zP-��~P�~\u0016��|,�A?�~J��/�@\u0002�A\u0001�Y���\u0006���)��\u0017.k��c\n",
      "�\u0011����}�\u001f\u0012�\u000fA\t��/8\u001cp7�׏aܭ5m�%�\u001f\u0014���n+\u001f�n�\u000f�\u001f\u0001K�nb�\u0002���m�c�M�\u0011�k\u001eS�f=�����m�c�\n",
      "��B���E7��O�t�ڕ��~P�~\u0016��|,�A?����\u0012P=O�e\n",
      "����[��\u0006�B\u0002�A\u0001�Y�6��&��\u0006)ת����ig���Ǣ\u001b��\u001b���A��\u0015$�\u001fL;�Lf>\u0016ݬ\u001f� �\u0012���G��A���t\u0010n�c�������y����������m�cэ�A��ɠ��\u0013�\u000f\n",
      "��B���E7��O؂�%\u001aHH?(H?\u000b�V>\u0016ݠ\u001fQ��е�:\u0012�\u000f\n",
      "�؆��%�<�U�Ƕ@\u0017G\u001e/v������i �Ś9�9gf$9\u001fq���\u0003`2+�ǂ����4\u001d�\u001e\u0014\u001f?�\u00014���*���.\u001d\u0007\u000b�\u0019]����t�K\u0015\u0017����Խ�1�ͤ�`'��e�\u001a�Ag\u0016\u0000��\u0001\u0000\u0000�\u0004\u0000\u0000\u001c3�\u001c3��Xt�~x�\u0014��P�\u0001'a��`�����\u0017\u001c\u000f��2Y�Xz����\"a��`�,t[�Xt�~x�Xs�\u001a�\u001f\t�\u0007\u0005�g���Ǣ���맘\u000b�\u0014b�����m�c�\n",
      "4�[*�h��\u001a�;�y��vH�\u0007Y0�� 6�[�\u0011�bQ�\u0016��d4��\u001a�|r)ڵ��z��$܂��_\u00007�I��f���\u0013��\u0005�\u001d���x\u0007q1�}���_&��h�\u0015���v+�=��\u001dz��0��\u0014�V\u0010���b��k^�\u001b+^I��Ϛ\u0000��{\u0001��\u001dX\u0018���)�\u0003��:�~E\u0013��\n",
      "��=Z�k���D��׋�\u0001��\u001fyE���\u0000E5��I��Y���\u0005��ԗ5���\"Fm�Ow-�����|ʿPK\u0003\u0004\u0014\u0000\u0000\u00000�Z�G��\u0000\u0000\u0000\u0016\u0002\u0000\u0000\u000b\u0000\u0000\u0000_rels/.rels��Kn\u00021\f@�\u0012e_L��\u00021�ذC�\u000b��磙đc������ h\u0011K���-�\u000f4�v\u001csۥl�0�\\�V5�\u0000�k)`�q�X*5K@-�4����\u0010,��%�-�nַLs�I�\n",
      "��s�ew\n",
      "\u0014�\u0001��Ú#JCZ�q�3K����\n",
      "��\u0012Z���4X���ނ�|Z\u0014���hAr��Ϋ��\u001f��\u0018t�[\u0000�f@Y�N-\u0017��W��ˎ\u0004��ST��E8�߅�fG��C��Y��6�2�\u000e-��.U�2���\u0018��D�M�dL�&�`\u000b,X��7������޽�̥�\u0015\u0001� {I\u001b����#�����J\u000b<0�\u001d�}\u0018�E�t��fN[(U�&\u000f�����\u0004�E:�c\u0018��F��\u001a\u001atP?\u0007�����\n",
      "�K����s�%��c\u0004�:g=VyC\u0014\u001f�@Հ�X�#uHN\u0012����R�r\u0007�~�|\u0010*x\u0002O\u0005�\u001a�z��Z�-e�\u001do�\t��\u0013X̳�1�gU���\u001a%�����\u000fJ�E(�r���D\\pB����!�+�T�z����l+\u0013�H�i��\u0002�h\u0001��\u001ag�\fum\u0014���KJ�\t��\u0006��-G��\u00154�a���n`��H��m\u000e�!ڦ�5>�~�8�\u000f0|�\u001f�Cd)*�[�\\�l�6�Z�(��(�\\��N���\u0012\u0011/\u0006i���z�?�]��W�5�G��!����\u000bPK\u0003\u0004\u0014\u0000\u0000\u00000�Z��B�\u001b\u0001\u0000\u0000�\u0003\u0000\u0000\u0013\u0000\u0000\u0000[Content_Types].xml���N�0\f�_��uj38p@�.�+��\u000b��]��boto�۲J��\n",
      "��=�?\u0001PK\u0001\u0002\u0014\u0003\u0014\u0000\u0000\u00000�Z\u0007AMb�\u0000\u0000\u0000�\u0000\u0000\u0000\u0010\u0000\u0000\u0000\u0000\u0000\u0000\u0000\u0000\u0000\u0000\u0000�\u0001\u0000\u0000\u0000\u0000docProps/app.xmlPK\u0001\u0002\u0014\u0003\u0014\u0000\u0000\u00000�Z�0�Z�\u0000\u0000\u0000�\u0001\u0000\u0000\u0011\u0000\u0000\u0000\u0000\u0000\u0000\u0000\u0000\u0000\u0000\u0000�\u0001�\u0000\u0000\u0000docProps/core.xmlPK\u0001\u0002\u0014\u0003\u0014\u0000\u0000\u00000�Z�\\�#\u0010\u0006\u0000\u0000�'\u0000\u0000\u0013\u0000\u0000\u0000\u0000\u0000\u0000\u0000\u0000\u0000\u0000\u0000�\u0001�\u0001\u0000\u0000xl/theme/theme1.xmlPK\u0001\u0002\u0014\u0003\u0014\u0000\u0000\u00000�Z`�93�\u0016\u0000\u0000��\u0000\u0000\u0018\u0000\u0000\u0000\u0000\u0000\u0000\u0000\u0000\u0000\u0000\u0000��\n",
      "\u0000\u0000\u0000\u0000\u0000\u0000\u0000\u0000\u0000\u0000\u0000�\u0001\u0001\u001f\u0000\u0000xl/styles.xmlPK\u0001\u0002\u0014\u0003\u0014\u0000\u0000\u00000�Z�G��\u0000\u0000\u0000\u0016\u0002\u0000\u0000\u000b\u0000\u0000\u0000\u0000\u0000\u0000\u0000\u0000\u0000\u0000\u0000�\u0001� \u0000\u0000_rels/.relsPK\u0001\u0002\u0014\u0003\u0014\u0000\u0000\u00000�Z�u\u0001�0\u0001\u0000\u0000)\u0002\u0000\u0000\u000f\u0000\u0000\u0000\u0000\u0000\u0000\u0000\u0000\u0000\u0000\u0000�\u0001�!\u0000\u0000xl/workbook.xmlPK\u0001\u0002\u0014\u0003\u0014\u0000\u0000\u00000�Z3�㺭\u0000\u0000\u0000�\u0001\u0000\u0000\u001a\u0000\u0000\u0000\u0000\u0000\u0000\u0000\u0000\u0000\u0000\u0000�\u0001?#\u0000\u0000xl/_rels/workbook.xml.relsPK\u0001\u0002\u0014\u0003\u0014\u0000\u0000\u00000�Z��B�\u001b\u0001\u0000\u0000�\u0003\u0000\u0000\u0013\u0000\u0000\u0000\u0000\u0000\u0000\u0000\u0000\u0000\u0000\u0000�\u0001$\u0000\u0000[Content_Types].xmlPK\u0005\u0006\u0000\u0000\u0000\u0000\t\u0000\t\u0000>\u0002\u0000\u0000p%\u0000\u0000\u0000\u0000\n"
     ]
    },
    {
     "ename": "JSONDecodeError",
     "evalue": "Expecting value: line 1 column 1 (char 0)",
     "output_type": "error",
     "traceback": [
      "\u001b[1;31m---------------------------------------------------------------------------\u001b[0m",
      "\u001b[1;31mJSONDecodeError\u001b[0m                           Traceback (most recent call last)",
      "Cell \u001b[1;32mIn[8], line 3\u001b[0m\n\u001b[0;32m      1\u001b[0m path \u001b[38;5;241m=\u001b[39m \u001b[38;5;124m\"\u001b[39m\u001b[38;5;124mhttps://dataestur.azure-api.net/API-SEGITTUR-v1/AENA_DESTINOS_DL\u001b[39m\u001b[38;5;124m\"\u001b[39m\n\u001b[0;32m      2\u001b[0m \u001b[38;5;28mfilter\u001b[39m \u001b[38;5;241m=\u001b[39m \u001b[38;5;124m\"\u001b[39m\u001b[38;5;124mdesde\u001b[39m\u001b[38;5;132;01m%20%\u001b[39;00m\u001b[38;5;124m28a\u001b[39m\u001b[38;5;124m%\u001b[39m\u001b[38;5;124mC3\u001b[39m\u001b[38;5;124m%\u001b[39m\u001b[38;5;124mB1o\u001b[39m\u001b[38;5;124m%\u001b[39m\u001b[38;5;124m29=2004&Aeropuerto\u001b[39m\u001b[38;5;124m%\u001b[39m\u001b[38;5;124m20AENA=JT\u001b[39m\u001b[38;5;124m%\u001b[39m\u001b[38;5;124m20Barcelona-El\u001b[39m\u001b[38;5;124m%\u001b[39m\u001b[38;5;124m20Prat\u001b[39m\u001b[38;5;124m\"\u001b[39m\n\u001b[1;32m----> 3\u001b[0m data \u001b[38;5;241m=\u001b[39m \u001b[43mget_api_endpoint\u001b[49m\u001b[43m(\u001b[49m\u001b[43mpath\u001b[49m\u001b[43m,\u001b[49m\u001b[38;5;28;43mfilter\u001b[39;49m\u001b[43m)\u001b[49m\n",
      "Cell \u001b[1;32mIn[7], line 7\u001b[0m, in \u001b[0;36mget_api_endpoint\u001b[1;34m(path, filter)\u001b[0m\n\u001b[0;32m      5\u001b[0m \u001b[38;5;28;01mif\u001b[39;00m response\u001b[38;5;241m.\u001b[39mstatus_code \u001b[38;5;241m==\u001b[39m \u001b[38;5;241m200\u001b[39m:\n\u001b[0;32m      6\u001b[0m     \u001b[38;5;28mprint\u001b[39m(response\u001b[38;5;241m.\u001b[39mtext)\n\u001b[1;32m----> 7\u001b[0m     \u001b[38;5;28;01mreturn\u001b[39;00m \u001b[43mjson\u001b[49m\u001b[38;5;241;43m.\u001b[39;49m\u001b[43mloads\u001b[49m\u001b[43m(\u001b[49m\u001b[43mresponse\u001b[49m\u001b[38;5;241;43m.\u001b[39;49m\u001b[43mtext\u001b[49m\u001b[43m)\u001b[49m\n\u001b[0;32m      8\u001b[0m \u001b[38;5;28;01melse\u001b[39;00m:\n\u001b[0;32m      9\u001b[0m     \u001b[38;5;28;01mreturn\u001b[39;00m response\u001b[38;5;241m.\u001b[39mstatus_code\n",
      "File \u001b[1;32m~\\AppData\\Local\\Programs\\Python\\Python310\\lib\\json\\__init__.py:346\u001b[0m, in \u001b[0;36mloads\u001b[1;34m(s, cls, object_hook, parse_float, parse_int, parse_constant, object_pairs_hook, **kw)\u001b[0m\n\u001b[0;32m    341\u001b[0m     s \u001b[38;5;241m=\u001b[39m s\u001b[38;5;241m.\u001b[39mdecode(detect_encoding(s), \u001b[38;5;124m'\u001b[39m\u001b[38;5;124msurrogatepass\u001b[39m\u001b[38;5;124m'\u001b[39m)\n\u001b[0;32m    343\u001b[0m \u001b[38;5;28;01mif\u001b[39;00m (\u001b[38;5;28mcls\u001b[39m \u001b[38;5;129;01mis\u001b[39;00m \u001b[38;5;28;01mNone\u001b[39;00m \u001b[38;5;129;01mand\u001b[39;00m object_hook \u001b[38;5;129;01mis\u001b[39;00m \u001b[38;5;28;01mNone\u001b[39;00m \u001b[38;5;129;01mand\u001b[39;00m\n\u001b[0;32m    344\u001b[0m         parse_int \u001b[38;5;129;01mis\u001b[39;00m \u001b[38;5;28;01mNone\u001b[39;00m \u001b[38;5;129;01mand\u001b[39;00m parse_float \u001b[38;5;129;01mis\u001b[39;00m \u001b[38;5;28;01mNone\u001b[39;00m \u001b[38;5;129;01mand\u001b[39;00m\n\u001b[0;32m    345\u001b[0m         parse_constant \u001b[38;5;129;01mis\u001b[39;00m \u001b[38;5;28;01mNone\u001b[39;00m \u001b[38;5;129;01mand\u001b[39;00m object_pairs_hook \u001b[38;5;129;01mis\u001b[39;00m \u001b[38;5;28;01mNone\u001b[39;00m \u001b[38;5;129;01mand\u001b[39;00m \u001b[38;5;129;01mnot\u001b[39;00m kw):\n\u001b[1;32m--> 346\u001b[0m     \u001b[38;5;28;01mreturn\u001b[39;00m \u001b[43m_default_decoder\u001b[49m\u001b[38;5;241;43m.\u001b[39;49m\u001b[43mdecode\u001b[49m\u001b[43m(\u001b[49m\u001b[43ms\u001b[49m\u001b[43m)\u001b[49m\n\u001b[0;32m    347\u001b[0m \u001b[38;5;28;01mif\u001b[39;00m \u001b[38;5;28mcls\u001b[39m \u001b[38;5;129;01mis\u001b[39;00m \u001b[38;5;28;01mNone\u001b[39;00m:\n\u001b[0;32m    348\u001b[0m     \u001b[38;5;28mcls\u001b[39m \u001b[38;5;241m=\u001b[39m JSONDecoder\n",
      "File \u001b[1;32m~\\AppData\\Local\\Programs\\Python\\Python310\\lib\\json\\decoder.py:337\u001b[0m, in \u001b[0;36mJSONDecoder.decode\u001b[1;34m(self, s, _w)\u001b[0m\n\u001b[0;32m    332\u001b[0m \u001b[38;5;28;01mdef\u001b[39;00m\u001b[38;5;250m \u001b[39m\u001b[38;5;21mdecode\u001b[39m(\u001b[38;5;28mself\u001b[39m, s, _w\u001b[38;5;241m=\u001b[39mWHITESPACE\u001b[38;5;241m.\u001b[39mmatch):\n\u001b[0;32m    333\u001b[0m \u001b[38;5;250m    \u001b[39m\u001b[38;5;124;03m\"\"\"Return the Python representation of ``s`` (a ``str`` instance\u001b[39;00m\n\u001b[0;32m    334\u001b[0m \u001b[38;5;124;03m    containing a JSON document).\u001b[39;00m\n\u001b[0;32m    335\u001b[0m \n\u001b[0;32m    336\u001b[0m \u001b[38;5;124;03m    \"\"\"\u001b[39;00m\n\u001b[1;32m--> 337\u001b[0m     obj, end \u001b[38;5;241m=\u001b[39m \u001b[38;5;28;43mself\u001b[39;49m\u001b[38;5;241;43m.\u001b[39;49m\u001b[43mraw_decode\u001b[49m\u001b[43m(\u001b[49m\u001b[43ms\u001b[49m\u001b[43m,\u001b[49m\u001b[43m \u001b[49m\u001b[43midx\u001b[49m\u001b[38;5;241;43m=\u001b[39;49m\u001b[43m_w\u001b[49m\u001b[43m(\u001b[49m\u001b[43ms\u001b[49m\u001b[43m,\u001b[49m\u001b[43m \u001b[49m\u001b[38;5;241;43m0\u001b[39;49m\u001b[43m)\u001b[49m\u001b[38;5;241;43m.\u001b[39;49m\u001b[43mend\u001b[49m\u001b[43m(\u001b[49m\u001b[43m)\u001b[49m\u001b[43m)\u001b[49m\n\u001b[0;32m    338\u001b[0m     end \u001b[38;5;241m=\u001b[39m _w(s, end)\u001b[38;5;241m.\u001b[39mend()\n\u001b[0;32m    339\u001b[0m     \u001b[38;5;28;01mif\u001b[39;00m end \u001b[38;5;241m!=\u001b[39m \u001b[38;5;28mlen\u001b[39m(s):\n",
      "File \u001b[1;32m~\\AppData\\Local\\Programs\\Python\\Python310\\lib\\json\\decoder.py:355\u001b[0m, in \u001b[0;36mJSONDecoder.raw_decode\u001b[1;34m(self, s, idx)\u001b[0m\n\u001b[0;32m    353\u001b[0m     obj, end \u001b[38;5;241m=\u001b[39m \u001b[38;5;28mself\u001b[39m\u001b[38;5;241m.\u001b[39mscan_once(s, idx)\n\u001b[0;32m    354\u001b[0m \u001b[38;5;28;01mexcept\u001b[39;00m \u001b[38;5;167;01mStopIteration\u001b[39;00m \u001b[38;5;28;01mas\u001b[39;00m err:\n\u001b[1;32m--> 355\u001b[0m     \u001b[38;5;28;01mraise\u001b[39;00m JSONDecodeError(\u001b[38;5;124m\"\u001b[39m\u001b[38;5;124mExpecting value\u001b[39m\u001b[38;5;124m\"\u001b[39m, s, err\u001b[38;5;241m.\u001b[39mvalue) \u001b[38;5;28;01mfrom\u001b[39;00m\u001b[38;5;250m \u001b[39m\u001b[38;5;28;01mNone\u001b[39;00m\n\u001b[0;32m    356\u001b[0m \u001b[38;5;28;01mreturn\u001b[39;00m obj, end\n",
      "\u001b[1;31mJSONDecodeError\u001b[0m: Expecting value: line 1 column 1 (char 0)"
     ]
    }
   ],
   "source": [
    "path = \"https://dataestur.azure-api.net/API-SEGITTUR-v1/AENA_DESTINOS_DL\"\n",
    "filter = \"desde%20%28a%C3%B1o%29=2004&Aeropuerto%20AENA=JT%20Barcelona-El%20Prat\"\n",
    "data = get_api_endpoint(path,filter)"
   ]
  }
 ],
 "metadata": {
  "kernelspec": {
   "display_name": "TravelMind-69GU69Sq",
   "language": "python",
   "name": "python3"
  },
  "language_info": {
   "codemirror_mode": {
    "name": "ipython",
    "version": 3
   },
   "file_extension": ".py",
   "mimetype": "text/x-python",
   "name": "python",
   "nbconvert_exporter": "python",
   "pygments_lexer": "ipython3",
   "version": "3.10.11"
  }
 },
 "nbformat": 4,
 "nbformat_minor": 5
}
